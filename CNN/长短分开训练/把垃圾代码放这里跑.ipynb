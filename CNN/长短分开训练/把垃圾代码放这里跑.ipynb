{
 "cells": [
  {
   "cell_type": "code",
   "execution_count": 16,
   "metadata": {},
   "outputs": [],
   "source": [
    "import pickle\n",
    "from torch.nn.utils.rnn import pad_sequence, pack_padded_sequence, pad_packed_sequence\n",
    "file = '/Data4/gly_wkdir/coldgenepredict/raw_sec/S_italica/分好的数据集csv/backup/测试data_batch_0.pkl'\n",
    "with open(file, 'rb') as file:\n",
    "    batch = pickle.load(file)\n",
    "    # 假设 seq 是一个 PackedSequence 对象\n",
    "    # 使用 pad_packed_sequence 获取填充后的张量和每个序列的长度\n",
    "    padded_seq, seq_lengths = pad_packed_sequence(batch[0], batch_first=True)\n",
    "\n",
    "    # 初始化一个列表来保存原始序列\n",
    "    original_sequences = []\n",
    "\n",
    "    # 根据每个序列的长度切片填充后的张量以获取原始序列\n",
    "    for i, length in enumerate(seq_lengths):\n",
    "        original_sequence = padded_seq[i, :length]  # 获取第 i 个序列的前 length 个元素\n",
    "        original_sequences.append(original_sequence)\n",
    "\n",
    "    # 现在 original_sequences 包含了所有原始序列\n",
    "    lenth = batch[1]\n",
    "    label = batch[2]\n"
   ]
  },
  {
   "cell_type": "code",
   "execution_count": 18,
   "metadata": {},
   "outputs": [],
   "source": [
    "# 创建反向映射字典\n",
    "decoding_map = {0: 'A', 1: 'C', 2: 'G', 3: 'T', 4: 'N'}\n",
    "\n",
    "# 初始化一个列表来保存还原后的序列\n",
    "decoded_sequences = []\n",
    "\n",
    "# 遍历每个one-hot编码的序列\n",
    "for seq_tensor in original_sequences:\n",
    "\tdecoded_seq = ''\n",
    "\t# 遍历序列中的每个编码向量\n",
    "\tfor vector in seq_tensor:\n",
    "\t\t# 找到值为1的位置，并使用反向映射字典获取对应的字符\n",
    "\t\tchar_index = vector.argmax().item()\n",
    "\t\tdecoded_seq += decoding_map[char_index]\n",
    "\t# 将还原后的序列添加到列表中\n",
    "\tdecoded_sequences.append(decoded_seq)\n",
    "\n",
    "# decoded_sequences 现在包含了所有还原后的序列\n",
    "original_sequences = decoded_sequences"
   ]
  },
  {
   "cell_type": "code",
   "execution_count": 22,
   "metadata": {},
   "outputs": [],
   "source": [
    "import pandas as pd\n",
    "\n",
    "# 读取CSV文件\n",
    "csv_path = '/Data4/gly_wkdir/coldgenepredict/raw_sec/S_italica/分好的数据集csv/backup/调代码的假的数据集.csv'\n",
    "df = pd.read_csv(csv_path)\n",
    "\n",
    "# 假设df是你的DataFrame\n",
    "# 获取第二列的数据作为序列集合\n",
    "csv_sequences = set(df.iloc[:, 1])\n",
    "\n",
    "# 假设decoded_sequences是我们之前还原的序列列表\n",
    "# decoded_sequences = [...]\n",
    "\n",
    "# 初始化一个列表来保存不在CSV文件中的序列\n",
    "sequences_not_in_csv = []\n",
    "\n",
    "# 检查每个还原的序列是否在CSV文件中\n",
    "for seq in decoded_sequences:\n",
    "\tif seq not in csv_sequences:\n",
    "\t\tsequences_not_in_csv.append(seq)\n",
    "\n",
    "# 输出不在CSV文件中的序列\n",
    "for seq in sequences_not_in_csv:\n",
    "\tprint(seq)"
   ]
  },
  {
   "cell_type": "code",
   "execution_count": null,
   "metadata": {},
   "outputs": [],
   "source": [
    "# 假设df是你的DataFrame\n"
   ]
  }
 ],
 "metadata": {
  "kernelspec": {
   "display_name": "DeepLpy3.9",
   "language": "python",
   "name": "python3"
  },
  "language_info": {
   "codemirror_mode": {
    "name": "ipython",
    "version": 3
   },
   "file_extension": ".py",
   "mimetype": "text/x-python",
   "name": "python",
   "nbconvert_exporter": "python",
   "pygments_lexer": "ipython3",
   "version": "3.9.19"
  }
 },
 "nbformat": 4,
 "nbformat_minor": 2
}
