{
 "cells": [
  {
   "cell_type": "code",
   "execution_count": 4,
   "metadata": {},
   "outputs": [
    {
     "name": "stdout",
     "output_type": "stream",
     "text": [
      "asal\n"
     ]
    }
   ],
   "source": [
    "total_length = 2\n",
    "sequence = 'asal'\n",
    "sequence = sequence + 'K' * (total_length - len(sequence))\n",
    "print(sequence)"
   ]
  },
  {
   "cell_type": "code",
   "execution_count": 18,
   "metadata": {},
   "outputs": [],
   "source": [
    "import numpy as np\n",
    "import torch\n",
    "\n",
    "csv_path = r'/Data4/gly_wkdir/coldgenepredict/raw_sec/S_italica/分好的数据集csv/'\n",
    "\n",
    "# 定义Dataset类\n",
    "class MyDataset(torch.utils.data.Dataset):\n",
    "    def __init__(self, csv_file):\n",
    "        self.total_length = 20\n",
    "        self.data = self.get_sequence_lable(csv_file)\n",
    "        \n",
    "    def __getitem__(self, key):\n",
    "        return self.data[key]\n",
    "    \n",
    "    def __len__(self):\n",
    "        return len(self.data)\n",
    "\n",
    "    def get_sequence_lable(self, csv_file)->list:\n",
    "        with open(csv_file, 'r') as f:\n",
    "            out = []\n",
    "            for line in f:\n",
    "                tmp = []\n",
    "                seq = self.encode_sequence(line.strip().split(',')[1])\n",
    "                tmp.append(seq)\n",
    "                tmp.append(int(line.strip().split(',')[2]))\n",
    "                out.append(tmp)\n",
    "            return out\n",
    "\n",
    "    # 定义一个函数，用于将序列转换为one-hot编码\n",
    "    def encode_sequence(self, sequence:str)->torch.Tensor:\n",
    "        # 把sequence: AGCT...用K填充到46398这么长\n",
    "        # sequence = sequence + 'K' * (self.total_length - len(sequence))\n",
    "        encoding = torch.tensor([\n",
    "            [1, 0, 0, 0, 0] if base == 'A' else\n",
    "            [0, 1, 0, 0, 0] if base == 'G' else\n",
    "            [0, 0, 1, 0, 0] if base == 'C' else\n",
    "            [0, 0, 0, 1, 0] if base == 'T' else\n",
    "            [0, 0, 0, 0, 1] if base == 'N' else\n",
    "            [0, 0, 0, 0, 0] for base in sequence\n",
    "        ],dtype=torch.float32)\n",
    "        # 把encoding用[0, 0, 0, 0, 0]填充到46398这么长\n",
    "        encoding = torch.cat([encoding, torch.zeros(self.total_length - len(encoding), 5, dtype=torch.float32)])\n",
    "        return encoding\n",
    "        \n",
    "from torch.utils.data import DataLoader\n",
    "# 读取zero_rows_val.csv\n",
    "data = MyDataset(csv_path + 'test.csv')\n",
    "# print(data[0])\n",
    "# 创建DataLoader\n",
    "dataloader = DataLoader(data, batch_size=4, shuffle=False)\n"
   ]
  },
  {
   "cell_type": "code",
   "execution_count": 19,
   "metadata": {},
   "outputs": [
    {
     "name": "stdout",
     "output_type": "stream",
     "text": [
      "torch.Size([4, 20, 5])\n",
      "torch.Size([4])\n",
      "torch.Size([4, 20, 5])\n",
      "torch.Size([4])\n",
      "torch.Size([4, 20, 5])\n",
      "torch.Size([4])\n",
      "torch.Size([4, 20, 5])\n",
      "torch.Size([4])\n",
      "torch.Size([2, 20, 5])\n",
      "torch.Size([2])\n"
     ]
    }
   ],
   "source": [
    "for i in (dataloader):\n",
    "    # print(i[0])\n",
    "    print(i[0].shape)\n",
    "    # print(i[1])\n",
    "    print(i[1].shape)\n",
    "    \n",
    "    "
   ]
  },
  {
   "cell_type": "code",
   "execution_count": 15,
   "metadata": {},
   "outputs": [
    {
     "name": "stdout",
     "output_type": "stream",
     "text": [
      "0\n",
      "torch.Size([3, 20, 5])\n",
      "tensor([0, 1, 0])\n"
     ]
    }
   ],
   "source": [
    "for i in  enumerate(dataloader):\n",
    "    # print(i)\n",
    "    print(i[0])\n",
    "    print(i[1][0].shape)\n",
    "    print(i[1][1])\n",
    "    break"
   ]
  },
  {
   "cell_type": "code",
   "execution_count": 1,
   "metadata": {},
   "outputs": [],
   "source": [
    "import pandas as pd\n",
    "\n",
    "# 读取两个CSV文件\n",
    "df1 = pd.read_csv('/Data4/gly_wkdir/coldgenepredict/raw_sec/S_italica/分好的数据集csv/one_rows_val_app.csv', header=None)\n",
    "df2 = pd.read_csv('/Data4/gly_wkdir/coldgenepredict/raw_sec/S_italica/分好的数据集csv/zero_rows_val.csv', header=None)\n",
    "\n",
    "# 使用zip函数将两个数据框的行逐行交叉合并\n",
    "merged_rows = []\n",
    "for row_a, row_b in zip(df1.values, df2.values):\n",
    "    merged_rows.append(row_a)\n",
    "    merged_rows.append(row_b)\n",
    "\n",
    "# 创建新的DataFrame\n",
    "merged_df = pd.DataFrame(merged_rows, columns=df1.columns)\n",
    "\n",
    "# 将合并后的结果保存为新的CSV文件\n",
    "merged_df.to_csv('/Data4/gly_wkdir/coldgenepredict/raw_sec/S_italica/分好的数据集csv/val.csv', index=False, header=False)\n"
   ]
  },
  {
   "cell_type": "code",
   "execution_count": 7,
   "metadata": {},
   "outputs": [
    {
     "name": "stdout",
     "output_type": "stream",
     "text": [
      "sequence-shape torch.Size([32, 46398, 5])\n",
      "label-shape torch.Size([32])\n",
      "<class 'torch.Tensor'>\n"
     ]
    }
   ],
   "source": [
    "# 给一个二进制数据集路径\n",
    "import pickle\n",
    "train_data_dir = '/Data4/gly_wkdir/coldgenepredict/raw_sec/S_italica/分好的数据集csv/二进制分批数据集/train/'\n",
    "val_data_dir = '/Data4/gly_wkdir/coldgenepredict/raw_sec/S_italica/分好的数据集csv/二进制分批数据集/val/'\n",
    "# 加载 DataLoader 对象分好的数据集\n",
    "with open(train_data_dir+'train_batch_0.pkl', 'rb') as f:\n",
    "    batch = pickle.load(f)\n",
    "    # 测试\n",
    "    print('sequence-shape',batch[0].shape)\n",
    "    print('label-shape',batch[1].shape)\n",
    "    # print('label-shape',batch[1].unsqueeze(1).shape)\n",
    "    print(type(batch[1].unsqueeze(1)))"
   ]
  },
  {
   "cell_type": "code",
   "execution_count": 4,
   "metadata": {},
   "outputs": [
    {
     "name": "stdout",
     "output_type": "stream",
     "text": [
      "Found 3 CUDA device(s):\n",
      "Device 0: NVIDIA RTX A6000, Memory: 48669.75 MB\n",
      "Device 1: NVIDIA RTX A6000, Memory: 48669.75 MB\n",
      "Device 2: NVIDIA GeForce RTX 3090, Memory: 24252.69 MB\n"
     ]
    }
   ],
   "source": [
    "import torch\n",
    "\n",
    "def print_visible_cuda_devices():\n",
    "    if torch.cuda.is_available():\n",
    "        num_devices = torch.cuda.device_count()\n",
    "        print(f\"Found {num_devices} CUDA device(s):\")\n",
    "        for i in range(num_devices):\n",
    "            device = torch.cuda.get_device_properties(i)\n",
    "            print(f\"Device {i}: {device.name}, Memory: {device.total_memory / 1024 ** 2:.2f} MB\")\n",
    "    else:\n",
    "        print(\"CUDA is not available on this system.\")\n",
    "\n",
    "print_visible_cuda_devices()\n"
   ]
  },
  {
   "cell_type": "code",
   "execution_count": 6,
   "metadata": {},
   "outputs": [
    {
     "name": "stdout",
     "output_type": "stream",
     "text": [
      "Found 3 CUDA device(s):\n",
      "Device 0: NVIDIA RTX A6000, Memory: 48669.75 MB\n",
      "Device 1: NVIDIA RTX A6000, Memory: 48669.75 MB\n",
      "Device 2: NVIDIA GeForce RTX 3090, Memory: 24252.69 MB\n"
     ]
    }
   ],
   "source": [
    "import os\n",
    "import torch\n",
    "\n",
    "def set_visible_cuda_devices(device_ids):\n",
    "    os.environ[\"CUDA_VISIBLE_DEVICES\"] = ','.join(map(str, device_ids))\n",
    "\n",
    "# 设置可见的显卡为第 0 和第 1 个显卡\n",
    "visible_devices = [0, 1]\n",
    "set_visible_cuda_devices(visible_devices)\n",
    "\n",
    "# 输出当前可见的 CUDA 设备信息\n",
    "def print_visible_cuda_devices():\n",
    "    if torch.cuda.is_available():\n",
    "        num_devices = torch.cuda.device_count()\n",
    "        print(f\"Found {num_devices} CUDA device(s):\")\n",
    "        for i in range(num_devices):\n",
    "            device = torch.cuda.get_device_properties(i)\n",
    "            print(f\"Device {i}: {device.name}, Memory: {device.total_memory / 1024 ** 2:.2f} MB\")\n",
    "    else:\n",
    "        print(\"CUDA is not available on this system.\")\n",
    "\n",
    "print_visible_cuda_devices()\n"
   ]
  },
  {
   "cell_type": "code",
   "execution_count": 10,
   "metadata": {},
   "outputs": [
    {
     "name": "stdout",
     "output_type": "stream",
     "text": [
      "当前可用的显卡: 1\n",
      "Found 3 CUDA device(s):\n",
      "Device 0: NVIDIA RTX A6000, Memory: 48669.75 MB\n",
      "Device 1: NVIDIA RTX A6000, Memory: 48669.75 MB\n",
      "Device 2: NVIDIA GeForce RTX 3090, Memory: 24252.69 MB\n"
     ]
    }
   ],
   "source": [
    "import torch\n",
    "\n",
    "# 设置当前可用的显卡为显卡0\n",
    "torch.cuda.set_device(1)\n",
    "\n",
    "# 验证是否已成功设置\n",
    "print(\"当前可用的显卡:\", torch.cuda.current_device())\n",
    "\n",
    "print_visible_cuda_devices()\n"
   ]
  },
  {
   "cell_type": "code",
   "execution_count": 2,
   "metadata": {
    "metadata": {}
   },
   "outputs": [
    {
     "name": "stdout",
     "output_type": "stream",
     "text": [
      "显卡 0 的名称: NVIDIA RTX A6000\n",
      "True\n"
     ]
    },
    {
     "ename": "PermissionError",
     "evalue": "[Errno 13] Permission denied: 'nvidia-smi'",
     "output_type": "error",
     "traceback": [
      "\u001b[0;31m---------------------------------------------------------------------------\u001b[0m",
      "\u001b[0;31mPermissionError\u001b[0m                           Traceback (most recent call last)",
      "Cell \u001b[0;32mIn[2], line 12\u001b[0m\n\u001b[1;32m      9\u001b[0m \u001b[38;5;28;01mimport\u001b[39;00m \u001b[38;5;21;01msubprocess\u001b[39;00m\n\u001b[1;32m     11\u001b[0m \u001b[38;5;28;01mtry\u001b[39;00m:\n\u001b[0;32m---> 12\u001b[0m     result \u001b[38;5;241m=\u001b[39m \u001b[43msubprocess\u001b[49m\u001b[38;5;241;43m.\u001b[39;49m\u001b[43mrun\u001b[49m\u001b[43m(\u001b[49m\u001b[43m[\u001b[49m\u001b[38;5;124;43m'\u001b[39;49m\u001b[38;5;124;43mnvidia-smi\u001b[39;49m\u001b[38;5;124;43m'\u001b[39;49m\u001b[43m]\u001b[49m\u001b[43m,\u001b[49m\u001b[43m \u001b[49m\u001b[43mstdout\u001b[49m\u001b[38;5;241;43m=\u001b[39;49m\u001b[43msubprocess\u001b[49m\u001b[38;5;241;43m.\u001b[39;49m\u001b[43mPIPE\u001b[49m\u001b[43m,\u001b[49m\u001b[43m \u001b[49m\u001b[43mstderr\u001b[49m\u001b[38;5;241;43m=\u001b[39;49m\u001b[43msubprocess\u001b[49m\u001b[38;5;241;43m.\u001b[39;49m\u001b[43mPIPE\u001b[49m\u001b[43m,\u001b[49m\u001b[43m \u001b[49m\u001b[43mtext\u001b[49m\u001b[38;5;241;43m=\u001b[39;49m\u001b[38;5;28;43;01mTrue\u001b[39;49;00m\u001b[43m,\u001b[49m\u001b[43m \u001b[49m\u001b[43mcheck\u001b[49m\u001b[38;5;241;43m=\u001b[39;49m\u001b[38;5;28;43;01mTrue\u001b[39;49;00m\u001b[43m)\u001b[49m\n\u001b[1;32m     13\u001b[0m     \u001b[38;5;28mprint\u001b[39m(result\u001b[38;5;241m.\u001b[39mstdout)\n\u001b[1;32m     14\u001b[0m \u001b[38;5;28;01mexcept\u001b[39;00m subprocess\u001b[38;5;241m.\u001b[39mCalledProcessError \u001b[38;5;28;01mas\u001b[39;00m e:\n",
      "File \u001b[0;32m/Data4/gly_wkdir/environment/yolo2/lib/python3.9/subprocess.py:505\u001b[0m, in \u001b[0;36mrun\u001b[0;34m(input, capture_output, timeout, check, *popenargs, **kwargs)\u001b[0m\n\u001b[1;32m    502\u001b[0m     kwargs[\u001b[38;5;124m'\u001b[39m\u001b[38;5;124mstdout\u001b[39m\u001b[38;5;124m'\u001b[39m] \u001b[38;5;241m=\u001b[39m PIPE\n\u001b[1;32m    503\u001b[0m     kwargs[\u001b[38;5;124m'\u001b[39m\u001b[38;5;124mstderr\u001b[39m\u001b[38;5;124m'\u001b[39m] \u001b[38;5;241m=\u001b[39m PIPE\n\u001b[0;32m--> 505\u001b[0m \u001b[38;5;28;01mwith\u001b[39;00m \u001b[43mPopen\u001b[49m\u001b[43m(\u001b[49m\u001b[38;5;241;43m*\u001b[39;49m\u001b[43mpopenargs\u001b[49m\u001b[43m,\u001b[49m\u001b[43m \u001b[49m\u001b[38;5;241;43m*\u001b[39;49m\u001b[38;5;241;43m*\u001b[39;49m\u001b[43mkwargs\u001b[49m\u001b[43m)\u001b[49m \u001b[38;5;28;01mas\u001b[39;00m process:\n\u001b[1;32m    506\u001b[0m     \u001b[38;5;28;01mtry\u001b[39;00m:\n\u001b[1;32m    507\u001b[0m         stdout, stderr \u001b[38;5;241m=\u001b[39m process\u001b[38;5;241m.\u001b[39mcommunicate(\u001b[38;5;28minput\u001b[39m, timeout\u001b[38;5;241m=\u001b[39mtimeout)\n",
      "File \u001b[0;32m/Data4/gly_wkdir/environment/yolo2/lib/python3.9/subprocess.py:951\u001b[0m, in \u001b[0;36mPopen.__init__\u001b[0;34m(self, args, bufsize, executable, stdin, stdout, stderr, preexec_fn, close_fds, shell, cwd, env, universal_newlines, startupinfo, creationflags, restore_signals, start_new_session, pass_fds, user, group, extra_groups, encoding, errors, text, umask)\u001b[0m\n\u001b[1;32m    947\u001b[0m         \u001b[38;5;28;01mif\u001b[39;00m \u001b[38;5;28mself\u001b[39m\u001b[38;5;241m.\u001b[39mtext_mode:\n\u001b[1;32m    948\u001b[0m             \u001b[38;5;28mself\u001b[39m\u001b[38;5;241m.\u001b[39mstderr \u001b[38;5;241m=\u001b[39m io\u001b[38;5;241m.\u001b[39mTextIOWrapper(\u001b[38;5;28mself\u001b[39m\u001b[38;5;241m.\u001b[39mstderr,\n\u001b[1;32m    949\u001b[0m                     encoding\u001b[38;5;241m=\u001b[39mencoding, errors\u001b[38;5;241m=\u001b[39merrors)\n\u001b[0;32m--> 951\u001b[0m     \u001b[38;5;28;43mself\u001b[39;49m\u001b[38;5;241;43m.\u001b[39;49m\u001b[43m_execute_child\u001b[49m\u001b[43m(\u001b[49m\u001b[43margs\u001b[49m\u001b[43m,\u001b[49m\u001b[43m \u001b[49m\u001b[43mexecutable\u001b[49m\u001b[43m,\u001b[49m\u001b[43m \u001b[49m\u001b[43mpreexec_fn\u001b[49m\u001b[43m,\u001b[49m\u001b[43m \u001b[49m\u001b[43mclose_fds\u001b[49m\u001b[43m,\u001b[49m\n\u001b[1;32m    952\u001b[0m \u001b[43m                        \u001b[49m\u001b[43mpass_fds\u001b[49m\u001b[43m,\u001b[49m\u001b[43m \u001b[49m\u001b[43mcwd\u001b[49m\u001b[43m,\u001b[49m\u001b[43m \u001b[49m\u001b[43menv\u001b[49m\u001b[43m,\u001b[49m\n\u001b[1;32m    953\u001b[0m \u001b[43m                        \u001b[49m\u001b[43mstartupinfo\u001b[49m\u001b[43m,\u001b[49m\u001b[43m \u001b[49m\u001b[43mcreationflags\u001b[49m\u001b[43m,\u001b[49m\u001b[43m \u001b[49m\u001b[43mshell\u001b[49m\u001b[43m,\u001b[49m\n\u001b[1;32m    954\u001b[0m \u001b[43m                        \u001b[49m\u001b[43mp2cread\u001b[49m\u001b[43m,\u001b[49m\u001b[43m \u001b[49m\u001b[43mp2cwrite\u001b[49m\u001b[43m,\u001b[49m\n\u001b[1;32m    955\u001b[0m \u001b[43m                        \u001b[49m\u001b[43mc2pread\u001b[49m\u001b[43m,\u001b[49m\u001b[43m \u001b[49m\u001b[43mc2pwrite\u001b[49m\u001b[43m,\u001b[49m\n\u001b[1;32m    956\u001b[0m \u001b[43m                        \u001b[49m\u001b[43merrread\u001b[49m\u001b[43m,\u001b[49m\u001b[43m \u001b[49m\u001b[43merrwrite\u001b[49m\u001b[43m,\u001b[49m\n\u001b[1;32m    957\u001b[0m \u001b[43m                        \u001b[49m\u001b[43mrestore_signals\u001b[49m\u001b[43m,\u001b[49m\n\u001b[1;32m    958\u001b[0m \u001b[43m                        \u001b[49m\u001b[43mgid\u001b[49m\u001b[43m,\u001b[49m\u001b[43m \u001b[49m\u001b[43mgids\u001b[49m\u001b[43m,\u001b[49m\u001b[43m \u001b[49m\u001b[43muid\u001b[49m\u001b[43m,\u001b[49m\u001b[43m \u001b[49m\u001b[43mumask\u001b[49m\u001b[43m,\u001b[49m\n\u001b[1;32m    959\u001b[0m \u001b[43m                        \u001b[49m\u001b[43mstart_new_session\u001b[49m\u001b[43m)\u001b[49m\n\u001b[1;32m    960\u001b[0m \u001b[38;5;28;01mexcept\u001b[39;00m:\n\u001b[1;32m    961\u001b[0m     \u001b[38;5;66;03m# Cleanup if the child failed starting.\u001b[39;00m\n\u001b[1;32m    962\u001b[0m     \u001b[38;5;28;01mfor\u001b[39;00m f \u001b[38;5;129;01min\u001b[39;00m \u001b[38;5;28mfilter\u001b[39m(\u001b[38;5;28;01mNone\u001b[39;00m, (\u001b[38;5;28mself\u001b[39m\u001b[38;5;241m.\u001b[39mstdin, \u001b[38;5;28mself\u001b[39m\u001b[38;5;241m.\u001b[39mstdout, \u001b[38;5;28mself\u001b[39m\u001b[38;5;241m.\u001b[39mstderr)):\n",
      "File \u001b[0;32m/Data4/gly_wkdir/environment/yolo2/lib/python3.9/subprocess.py:1837\u001b[0m, in \u001b[0;36mPopen._execute_child\u001b[0;34m(self, args, executable, preexec_fn, close_fds, pass_fds, cwd, env, startupinfo, creationflags, shell, p2cread, p2cwrite, c2pread, c2pwrite, errread, errwrite, restore_signals, gid, gids, uid, umask, start_new_session)\u001b[0m\n\u001b[1;32m   1835\u001b[0m     \u001b[38;5;28;01mif\u001b[39;00m errno_num \u001b[38;5;241m!=\u001b[39m \u001b[38;5;241m0\u001b[39m:\n\u001b[1;32m   1836\u001b[0m         err_msg \u001b[38;5;241m=\u001b[39m os\u001b[38;5;241m.\u001b[39mstrerror(errno_num)\n\u001b[0;32m-> 1837\u001b[0m     \u001b[38;5;28;01mraise\u001b[39;00m child_exception_type(errno_num, err_msg, err_filename)\n\u001b[1;32m   1838\u001b[0m \u001b[38;5;28;01mraise\u001b[39;00m child_exception_type(err_msg)\n",
      "\u001b[0;31mPermissionError\u001b[0m: [Errno 13] Permission denied: 'nvidia-smi'"
     ]
    }
   ],
   "source": [
    "import torch\n",
    "\n",
    "# 获取显卡 0 的属性\n",
    "device_properties = torch.cuda.get_device_properties(0)\n",
    "\n",
    "# 输出显卡 0 的名称\n",
    "print(\"显卡 0 的名称:\", device_properties.name)\n",
    "print(torch.cuda.is_available())\n",
    "import subprocess\n",
    "\n",
    "try:\n",
    "    result = subprocess.run(['nvidia-smi'], stdout=subprocess.PIPE, stderr=subprocess.PIPE, text=True, check=True)\n",
    "    print(result.stdout)\n",
    "except subprocess.CalledProcessError as e:\n",
    "    print(f\"An error occurred: {e.stderr}\")\n"
   ]
  },
  {
   "cell_type": "code",
   "execution_count": 1,
   "metadata": {},
   "outputs": [
    {
     "ename": "RuntimeError",
     "evalue": "Given transposed=1, weight of size [1, 1, 1, 1], expected input[32, 1280, 46, 1] to have 1 channels, but got 1280 channels instead",
     "output_type": "error",
     "traceback": [
      "\u001b[0;31m---------------------------------------------------------------------------\u001b[0m",
      "\u001b[0;31mRuntimeError\u001b[0m                              Traceback (most recent call last)",
      "Cell \u001b[0;32mIn[1], line 23\u001b[0m\n\u001b[1;32m     20\u001b[0m input_tensor \u001b[38;5;241m=\u001b[39m torch\u001b[38;5;241m.\u001b[39mrandn(\u001b[38;5;241m32\u001b[39m, \u001b[38;5;241m1280\u001b[39m, \u001b[38;5;241m46\u001b[39m, \u001b[38;5;241m1\u001b[39m)\n\u001b[1;32m     22\u001b[0m \u001b[38;5;66;03m# 将输入张量通过模型\u001b[39;00m\n\u001b[0;32m---> 23\u001b[0m output_tensor \u001b[38;5;241m=\u001b[39m \u001b[43mmodel\u001b[49m\u001b[43m(\u001b[49m\u001b[43minput_tensor\u001b[49m\u001b[43m)\u001b[49m\n\u001b[1;32m     25\u001b[0m \u001b[38;5;66;03m# 输出张量的形状\u001b[39;00m\n\u001b[1;32m     26\u001b[0m \u001b[38;5;28mprint\u001b[39m(\u001b[38;5;124m\"\u001b[39m\u001b[38;5;124m输出张量的形状:\u001b[39m\u001b[38;5;124m\"\u001b[39m, output_tensor\u001b[38;5;241m.\u001b[39mshape)\n",
      "File \u001b[0;32m/Data4/gly_wkdir/environment/yolo2/lib/python3.9/site-packages/torch/nn/modules/module.py:1518\u001b[0m, in \u001b[0;36mModule._wrapped_call_impl\u001b[0;34m(self, *args, **kwargs)\u001b[0m\n\u001b[1;32m   1516\u001b[0m     \u001b[38;5;28;01mreturn\u001b[39;00m \u001b[38;5;28mself\u001b[39m\u001b[38;5;241m.\u001b[39m_compiled_call_impl(\u001b[38;5;241m*\u001b[39margs, \u001b[38;5;241m*\u001b[39m\u001b[38;5;241m*\u001b[39mkwargs)  \u001b[38;5;66;03m# type: ignore[misc]\u001b[39;00m\n\u001b[1;32m   1517\u001b[0m \u001b[38;5;28;01melse\u001b[39;00m:\n\u001b[0;32m-> 1518\u001b[0m     \u001b[38;5;28;01mreturn\u001b[39;00m \u001b[38;5;28;43mself\u001b[39;49m\u001b[38;5;241;43m.\u001b[39;49m\u001b[43m_call_impl\u001b[49m\u001b[43m(\u001b[49m\u001b[38;5;241;43m*\u001b[39;49m\u001b[43margs\u001b[49m\u001b[43m,\u001b[49m\u001b[43m \u001b[49m\u001b[38;5;241;43m*\u001b[39;49m\u001b[38;5;241;43m*\u001b[39;49m\u001b[43mkwargs\u001b[49m\u001b[43m)\u001b[49m\n",
      "File \u001b[0;32m/Data4/gly_wkdir/environment/yolo2/lib/python3.9/site-packages/torch/nn/modules/module.py:1527\u001b[0m, in \u001b[0;36mModule._call_impl\u001b[0;34m(self, *args, **kwargs)\u001b[0m\n\u001b[1;32m   1522\u001b[0m \u001b[38;5;66;03m# If we don't have any hooks, we want to skip the rest of the logic in\u001b[39;00m\n\u001b[1;32m   1523\u001b[0m \u001b[38;5;66;03m# this function, and just call forward.\u001b[39;00m\n\u001b[1;32m   1524\u001b[0m \u001b[38;5;28;01mif\u001b[39;00m \u001b[38;5;129;01mnot\u001b[39;00m (\u001b[38;5;28mself\u001b[39m\u001b[38;5;241m.\u001b[39m_backward_hooks \u001b[38;5;129;01mor\u001b[39;00m \u001b[38;5;28mself\u001b[39m\u001b[38;5;241m.\u001b[39m_backward_pre_hooks \u001b[38;5;129;01mor\u001b[39;00m \u001b[38;5;28mself\u001b[39m\u001b[38;5;241m.\u001b[39m_forward_hooks \u001b[38;5;129;01mor\u001b[39;00m \u001b[38;5;28mself\u001b[39m\u001b[38;5;241m.\u001b[39m_forward_pre_hooks\n\u001b[1;32m   1525\u001b[0m         \u001b[38;5;129;01mor\u001b[39;00m _global_backward_pre_hooks \u001b[38;5;129;01mor\u001b[39;00m _global_backward_hooks\n\u001b[1;32m   1526\u001b[0m         \u001b[38;5;129;01mor\u001b[39;00m _global_forward_hooks \u001b[38;5;129;01mor\u001b[39;00m _global_forward_pre_hooks):\n\u001b[0;32m-> 1527\u001b[0m     \u001b[38;5;28;01mreturn\u001b[39;00m \u001b[43mforward_call\u001b[49m\u001b[43m(\u001b[49m\u001b[38;5;241;43m*\u001b[39;49m\u001b[43margs\u001b[49m\u001b[43m,\u001b[49m\u001b[43m \u001b[49m\u001b[38;5;241;43m*\u001b[39;49m\u001b[38;5;241;43m*\u001b[39;49m\u001b[43mkwargs\u001b[49m\u001b[43m)\u001b[49m\n\u001b[1;32m   1529\u001b[0m \u001b[38;5;28;01mtry\u001b[39;00m:\n\u001b[1;32m   1530\u001b[0m     result \u001b[38;5;241m=\u001b[39m \u001b[38;5;28;01mNone\u001b[39;00m\n",
      "Cell \u001b[0;32mIn[1], line 13\u001b[0m, in \u001b[0;36mConvTransposeNet.forward\u001b[0;34m(self, x)\u001b[0m\n\u001b[1;32m     10\u001b[0m \u001b[38;5;28;01mdef\u001b[39;00m \u001b[38;5;21mforward\u001b[39m(\u001b[38;5;28mself\u001b[39m, x):\n\u001b[1;32m     11\u001b[0m     \u001b[38;5;66;03m# 输入 x 的形状为 [batch_size, 1280, 46, 1]\u001b[39;00m\n\u001b[1;32m     12\u001b[0m     \u001b[38;5;66;03m# 1x1 卷积操作\u001b[39;00m\n\u001b[0;32m---> 13\u001b[0m     x \u001b[38;5;241m=\u001b[39m \u001b[38;5;28;43mself\u001b[39;49m\u001b[38;5;241;43m.\u001b[39;49m\u001b[43mconv_transpose\u001b[49m\u001b[43m(\u001b[49m\u001b[43mx\u001b[49m\u001b[43m)\u001b[49m\n\u001b[1;32m     14\u001b[0m     \u001b[38;5;28;01mreturn\u001b[39;00m x\n",
      "File \u001b[0;32m/Data4/gly_wkdir/environment/yolo2/lib/python3.9/site-packages/torch/nn/modules/module.py:1518\u001b[0m, in \u001b[0;36mModule._wrapped_call_impl\u001b[0;34m(self, *args, **kwargs)\u001b[0m\n\u001b[1;32m   1516\u001b[0m     \u001b[38;5;28;01mreturn\u001b[39;00m \u001b[38;5;28mself\u001b[39m\u001b[38;5;241m.\u001b[39m_compiled_call_impl(\u001b[38;5;241m*\u001b[39margs, \u001b[38;5;241m*\u001b[39m\u001b[38;5;241m*\u001b[39mkwargs)  \u001b[38;5;66;03m# type: ignore[misc]\u001b[39;00m\n\u001b[1;32m   1517\u001b[0m \u001b[38;5;28;01melse\u001b[39;00m:\n\u001b[0;32m-> 1518\u001b[0m     \u001b[38;5;28;01mreturn\u001b[39;00m \u001b[38;5;28;43mself\u001b[39;49m\u001b[38;5;241;43m.\u001b[39;49m\u001b[43m_call_impl\u001b[49m\u001b[43m(\u001b[49m\u001b[38;5;241;43m*\u001b[39;49m\u001b[43margs\u001b[49m\u001b[43m,\u001b[49m\u001b[43m \u001b[49m\u001b[38;5;241;43m*\u001b[39;49m\u001b[38;5;241;43m*\u001b[39;49m\u001b[43mkwargs\u001b[49m\u001b[43m)\u001b[49m\n",
      "File \u001b[0;32m/Data4/gly_wkdir/environment/yolo2/lib/python3.9/site-packages/torch/nn/modules/module.py:1527\u001b[0m, in \u001b[0;36mModule._call_impl\u001b[0;34m(self, *args, **kwargs)\u001b[0m\n\u001b[1;32m   1522\u001b[0m \u001b[38;5;66;03m# If we don't have any hooks, we want to skip the rest of the logic in\u001b[39;00m\n\u001b[1;32m   1523\u001b[0m \u001b[38;5;66;03m# this function, and just call forward.\u001b[39;00m\n\u001b[1;32m   1524\u001b[0m \u001b[38;5;28;01mif\u001b[39;00m \u001b[38;5;129;01mnot\u001b[39;00m (\u001b[38;5;28mself\u001b[39m\u001b[38;5;241m.\u001b[39m_backward_hooks \u001b[38;5;129;01mor\u001b[39;00m \u001b[38;5;28mself\u001b[39m\u001b[38;5;241m.\u001b[39m_backward_pre_hooks \u001b[38;5;129;01mor\u001b[39;00m \u001b[38;5;28mself\u001b[39m\u001b[38;5;241m.\u001b[39m_forward_hooks \u001b[38;5;129;01mor\u001b[39;00m \u001b[38;5;28mself\u001b[39m\u001b[38;5;241m.\u001b[39m_forward_pre_hooks\n\u001b[1;32m   1525\u001b[0m         \u001b[38;5;129;01mor\u001b[39;00m _global_backward_pre_hooks \u001b[38;5;129;01mor\u001b[39;00m _global_backward_hooks\n\u001b[1;32m   1526\u001b[0m         \u001b[38;5;129;01mor\u001b[39;00m _global_forward_hooks \u001b[38;5;129;01mor\u001b[39;00m _global_forward_pre_hooks):\n\u001b[0;32m-> 1527\u001b[0m     \u001b[38;5;28;01mreturn\u001b[39;00m \u001b[43mforward_call\u001b[49m\u001b[43m(\u001b[49m\u001b[38;5;241;43m*\u001b[39;49m\u001b[43margs\u001b[49m\u001b[43m,\u001b[49m\u001b[43m \u001b[49m\u001b[38;5;241;43m*\u001b[39;49m\u001b[38;5;241;43m*\u001b[39;49m\u001b[43mkwargs\u001b[49m\u001b[43m)\u001b[49m\n\u001b[1;32m   1529\u001b[0m \u001b[38;5;28;01mtry\u001b[39;00m:\n\u001b[1;32m   1530\u001b[0m     result \u001b[38;5;241m=\u001b[39m \u001b[38;5;28;01mNone\u001b[39;00m\n",
      "File \u001b[0;32m/Data4/gly_wkdir/environment/yolo2/lib/python3.9/site-packages/torch/nn/modules/conv.py:952\u001b[0m, in \u001b[0;36mConvTranspose2d.forward\u001b[0;34m(self, input, output_size)\u001b[0m\n\u001b[1;32m    947\u001b[0m num_spatial_dims \u001b[38;5;241m=\u001b[39m \u001b[38;5;241m2\u001b[39m\n\u001b[1;32m    948\u001b[0m output_padding \u001b[38;5;241m=\u001b[39m \u001b[38;5;28mself\u001b[39m\u001b[38;5;241m.\u001b[39m_output_padding(\n\u001b[1;32m    949\u001b[0m     \u001b[38;5;28minput\u001b[39m, output_size, \u001b[38;5;28mself\u001b[39m\u001b[38;5;241m.\u001b[39mstride, \u001b[38;5;28mself\u001b[39m\u001b[38;5;241m.\u001b[39mpadding, \u001b[38;5;28mself\u001b[39m\u001b[38;5;241m.\u001b[39mkernel_size,  \u001b[38;5;66;03m# type: ignore[arg-type]\u001b[39;00m\n\u001b[1;32m    950\u001b[0m     num_spatial_dims, \u001b[38;5;28mself\u001b[39m\u001b[38;5;241m.\u001b[39mdilation)  \u001b[38;5;66;03m# type: ignore[arg-type]\u001b[39;00m\n\u001b[0;32m--> 952\u001b[0m \u001b[38;5;28;01mreturn\u001b[39;00m \u001b[43mF\u001b[49m\u001b[38;5;241;43m.\u001b[39;49m\u001b[43mconv_transpose2d\u001b[49m\u001b[43m(\u001b[49m\n\u001b[1;32m    953\u001b[0m \u001b[43m    \u001b[49m\u001b[38;5;28;43minput\u001b[39;49m\u001b[43m,\u001b[49m\u001b[43m \u001b[49m\u001b[38;5;28;43mself\u001b[39;49m\u001b[38;5;241;43m.\u001b[39;49m\u001b[43mweight\u001b[49m\u001b[43m,\u001b[49m\u001b[43m \u001b[49m\u001b[38;5;28;43mself\u001b[39;49m\u001b[38;5;241;43m.\u001b[39;49m\u001b[43mbias\u001b[49m\u001b[43m,\u001b[49m\u001b[43m \u001b[49m\u001b[38;5;28;43mself\u001b[39;49m\u001b[38;5;241;43m.\u001b[39;49m\u001b[43mstride\u001b[49m\u001b[43m,\u001b[49m\u001b[43m \u001b[49m\u001b[38;5;28;43mself\u001b[39;49m\u001b[38;5;241;43m.\u001b[39;49m\u001b[43mpadding\u001b[49m\u001b[43m,\u001b[49m\n\u001b[1;32m    954\u001b[0m \u001b[43m    \u001b[49m\u001b[43moutput_padding\u001b[49m\u001b[43m,\u001b[49m\u001b[43m \u001b[49m\u001b[38;5;28;43mself\u001b[39;49m\u001b[38;5;241;43m.\u001b[39;49m\u001b[43mgroups\u001b[49m\u001b[43m,\u001b[49m\u001b[43m \u001b[49m\u001b[38;5;28;43mself\u001b[39;49m\u001b[38;5;241;43m.\u001b[39;49m\u001b[43mdilation\u001b[49m\u001b[43m)\u001b[49m\n",
      "\u001b[0;31mRuntimeError\u001b[0m: Given transposed=1, weight of size [1, 1, 1, 1], expected input[32, 1280, 46, 1] to have 1 channels, but got 1280 channels instead"
     ]
    }
   ],
   "source": [
    "import torch\n",
    "import torch.nn as nn\n",
    "\n",
    "class ConvTransposeNet(nn.Module):\n",
    "    def __init__(self):\n",
    "        super(ConvTransposeNet, self).__init__()\n",
    "        # 1x1 卷积层\n",
    "        self.conv_transpose = nn.ConvTranspose2d(in_channels=1, out_channels=1, kernel_size=(1, 1))\n",
    "        \n",
    "    def forward(self, x):\n",
    "        # 输入 x 的形状为 [batch_size, 1280, 46, 1]\n",
    "        # 1x1 卷积操作\n",
    "        x = self.conv_transpose(x)\n",
    "        return x\n",
    "\n",
    "# 创建模型实例\n",
    "model = ConvTransposeNet()\n",
    "\n",
    "# 输入张量\n",
    "input_tensor = torch.randn(32, 1280, 46, 1)\n",
    "\n",
    "# 将输入张量通过模型\n",
    "output_tensor = model(input_tensor)\n",
    "\n",
    "# 输出张量的形状\n",
    "print(\"输出张量的形状:\", output_tensor.shape)\n"
   ]
  },
  {
   "cell_type": "code",
   "execution_count": 8,
   "metadata": {},
   "outputs": [
    {
     "name": "stdout",
     "output_type": "stream",
     "text": [
      "sequence.shape torch.Size([32, 5, 46398, 1])\n",
      "label.shape torch.Size([32, 1])\n"
     ]
    }
   ],
   "source": [
    "train_data_dir = '/Data4/gly_wkdir/coldgenepredict/raw_sec/S_italica/分好的数据集csv/二进制分批数据集/train/'\n",
    "import pickle, torch\n",
    "with open(train_data_dir+'train_batch_'+str(1)+'.pkl', 'rb') as f:\n",
    "            batch = pickle.load(f)\n",
    "            sequence = batch[0].unsqueeze(3).to(torch.float32).permute(0,2,1,3)\n",
    "            print('sequence.shape',sequence.shape)\n",
    "            label = batch[1].unsqueeze(1).to(torch.float32)\n",
    "            print('label.shape',label.shape)"
   ]
  },
  {
   "cell_type": "code",
   "execution_count": 19,
   "metadata": {},
   "outputs": [
    {
     "name": "stdout",
     "output_type": "stream",
     "text": [
      "padded_tensor.shape torch.Size([32, 5, 46656, 1])\n",
      "tensor([[1.],\n",
      "        [1.],\n",
      "        [1.],\n",
      "        ...,\n",
      "        [0.],\n",
      "        [0.],\n",
      "        [0.]])\n",
      "reshaped_tensor.shape torch.Size([32, 5, 216, 216])\n",
      "tensor([[1., 1., 1.,  ..., 0., 0., 1.],\n",
      "        [0., 1., 0.,  ..., 0., 0., 0.],\n",
      "        [0., 0., 0.,  ..., 0., 0., 0.],\n",
      "        ...,\n",
      "        [0., 0., 0.,  ..., 0., 0., 0.],\n",
      "        [0., 0., 0.,  ..., 0., 0., 0.],\n",
      "        [0., 0., 0.,  ..., 0., 0., 0.]])\n"
     ]
    }
   ],
   "source": [
    "padded_tensor = torch.nn.functional.pad(sequence, [0,0,0,258])\n",
    "print('padded_tensor.shape',padded_tensor.shape)\n",
    "print(padded_tensor[0][0])\n",
    "reshaped_tensor = padded_tensor.view(32, 5, 216, 216)\n",
    "print('reshaped_tensor.shape',reshaped_tensor.shape)\n",
    "print(reshaped_tensor[0][0])"
   ]
  },
  {
   "cell_type": "code",
   "execution_count": 39,
   "metadata": {},
   "outputs": [
    {
     "name": "stdout",
     "output_type": "stream",
     "text": [
      "tensor([[ 0,  1,  2,  3,  4,  5,  0,  0],\n",
      "        [ 0,  6,  7,  8,  9, 10,  0,  0]])\n",
      "tensor([[ 0,  1,  2,  3],\n",
      "        [ 4,  5,  0,  0],\n",
      "        [ 0,  6,  7,  8],\n",
      "        [ 9, 10,  0,  0]])\n"
     ]
    }
   ],
   "source": [
    "a = torch.tensor([1,2,3,4,5,6,7,8,9,10])\n",
    "a = a.view([2, 5])\n",
    "a = torch.nn.functional.pad(a, [1,2])\n",
    "b = a.reshape(4,4)\n",
    "print(a)\n",
    "print(b)"
   ]
  },
  {
   "cell_type": "code",
   "execution_count": 40,
   "metadata": {},
   "outputs": [],
   "source": [
    "import torchvision.models as models\n",
    "resnet18 = models.resnet18()"
   ]
  },
  {
   "cell_type": "code",
   "execution_count": 41,
   "metadata": {},
   "outputs": [
    {
     "data": {
      "text/plain": [
       "torch.Size([32, 5, 216, 216])"
      ]
     },
     "execution_count": 41,
     "metadata": {},
     "output_type": "execute_result"
    }
   ],
   "source": [
    "reshaped_tensor.shape"
   ]
  },
  {
   "cell_type": "code",
   "execution_count": null,
   "metadata": {},
   "outputs": [],
   "source": [
    "import matplotlib.pyplot as plt\n",
    "\n",
    "# 假设sequence是你的张量，已经reshape成了(32, 5, 216, 216)\n",
    "# 注意：如果数据范围在[0, 1]之间，你可能需要将其乘以255来转换为0到255的整数值\n",
    "\n",
    "# 循环遍历32个样本\n",
    "for i in range(reshaped_tensor.size(0)):\n",
    "    # 获取第i个样本的图像数据\n",
    "    image = reshaped_tensor[i].numpy()  # 转换为NumPy数组\n",
    "    print(image[-1, :, :])\n",
    "    # 显示图像\n",
    "    plt.imshow(image[-1, :, :])\n",
    "    plt.title(f\"Image {i+1}\")  # 图像标题\n",
    "    plt.show()\n"
   ]
  },
  {
   "cell_type": "code",
   "execution_count": 51,
   "metadata": {},
   "outputs": [
    {
     "name": "stdout",
     "output_type": "stream",
     "text": [
      "torch.Size([2, 3, 200])\n",
      "tensor([[-1.4304,  0.3237, -0.0132, -1.3303,  1.1703,  1.0173,  0.4059,  0.3081,\n",
      "         -1.3395, -0.4861,  0.1144, -1.0111, -1.4158, -0.9841, -0.5336, -0.7502,\n",
      "         -1.0283, -1.2647, -0.0675, -1.2177, -0.6403, -0.7225, -1.0329, -1.0738,\n",
      "          0.0183,  0.0169, -0.5792, -1.9447, -0.2478,  0.9735,  0.4360,  0.4366,\n",
      "          0.3391, -0.9739, -0.4972,  0.3725, -0.6670, -0.2559,  0.4954, -0.3566,\n",
      "          0.3327,  1.1274,  1.0086, -0.1968,  0.6833,  1.8984,  0.0961,  0.3747,\n",
      "          0.2691,  0.4133,  0.0920, -0.1650,  1.8821, -0.6112,  1.9376, -1.0613,\n",
      "          0.8602,  0.9520, -0.1953, -0.2950,  1.1901, -1.4603,  1.2043, -0.0176,\n",
      "          0.0475, -1.1394,  0.8392, -0.2775,  0.0117,  0.5932,  0.2197,  0.7108,\n",
      "         -2.0340, -0.9808, -0.0842, -1.8289,  0.1120,  0.4086, -0.5622,  2.5936,\n",
      "         -0.9814, -0.7245,  0.9674,  0.4688,  0.0252, -0.7327,  1.1493, -0.3584,\n",
      "          0.7250, -2.7110, -1.6229, -0.8306,  1.6714, -0.4671, -0.3991,  0.4011,\n",
      "          0.7539,  1.7413,  1.4896, -0.8297,  1.0159, -1.6956,  0.0042,  0.3447,\n",
      "         -0.2093, -0.8816,  1.6126,  2.2630,  1.0554, -2.0834,  1.5839, -0.1301,\n",
      "         -0.3440,  1.4439,  0.2540, -0.5347, -0.4807, -0.4058,  0.1452, -0.6402,\n",
      "          1.0201,  1.4431, -0.0768, -0.5089, -0.7912,  1.1854, -0.1867,  0.0895,\n",
      "         -0.9850, -0.7415,  1.6422,  1.3404, -0.2139,  0.2729,  0.8121,  0.6317,\n",
      "         -1.6260,  0.3309,  0.6014, -1.3369, -0.9817, -1.5187,  0.0167,  0.1937,\n",
      "         -0.7226,  0.3156, -0.2234, -1.7993,  0.0574, -1.5231, -0.8389,  1.1189,\n",
      "         -0.4584,  0.5956, -0.8871,  0.0848,  2.2020, -0.3937, -0.9237,  0.3120,\n",
      "          0.1968,  0.2483, -1.6165,  1.9188,  0.6509, -0.6960, -0.4410, -1.3086,\n",
      "          0.1574, -0.1495, -1.8239, -0.2786,  0.7748,  0.4219, -0.9772, -0.6847,\n",
      "         -0.4066,  0.8995,  0.6326, -0.9034, -0.2634, -0.5475,  0.2867,  0.5571,\n",
      "          0.9763,  0.9858, -0.2732,  0.8906, -0.6579, -0.1665, -0.1624,  1.3745,\n",
      "         -0.1968,  1.7348, -2.0575, -1.4059, -0.1511, -0.8402,  0.5072, -0.5448],\n",
      "        [ 0.3642, -0.1583,  1.6282,  1.5937,  0.8221, -0.9333, -0.4213,  0.2880,\n",
      "          1.4837,  1.1638,  0.1239,  0.0283, -1.7760, -0.6078,  0.0634, -0.5791,\n",
      "         -0.0872,  0.3510, -0.8638, -0.7346,  0.8136, -1.1112,  0.0091, -0.3059,\n",
      "          0.1997, -0.6156, -0.5961,  0.1930,  2.0747,  0.3055, -1.3303, -0.5663,\n",
      "         -0.6933,  1.3841, -0.2850, -0.0634,  1.0760,  0.4474,  1.2059, -0.5096,\n",
      "          0.0795, -0.0176,  1.6579,  1.5726,  0.1037, -1.6049, -1.4838,  1.1934,\n",
      "          1.3991,  1.0816,  0.1911, -0.4345,  0.5628,  1.3869,  0.1729,  0.0193,\n",
      "          0.4695,  0.5605, -0.0509, -1.1730, -0.6463,  0.9251,  0.8034,  0.0514,\n",
      "         -0.2631, -0.7396, -0.3593, -0.0179,  0.6133, -2.3179,  0.0846, -0.5650,\n",
      "         -0.8727,  0.5705, -0.0929, -1.5282,  0.3789,  0.2272, -0.7459,  0.4822,\n",
      "         -0.8211, -0.4076, -0.7879,  0.2603,  0.3746, -1.0658,  0.8149,  0.1868,\n",
      "          2.3761,  0.2572, -0.6353, -0.7316,  0.2578, -1.6419,  0.5888,  1.2104,\n",
      "          1.9726,  0.2127, -0.7105,  2.6722,  0.0378,  0.9401,  1.6067, -1.0295,\n",
      "         -0.8416,  0.2866,  1.0860,  0.3949, -0.9801, -0.4999,  1.3606, -0.9037,\n",
      "          0.1390,  0.8152, -0.6164, -0.2621, -0.0352,  0.8698,  0.4068, -0.8313,\n",
      "         -0.0157,  0.8861,  0.1679,  0.4959, -0.1817,  2.0312, -0.0284, -0.8742,\n",
      "          0.8828, -0.7740, -0.1490,  0.1617,  0.5189,  0.2442, -0.5881,  1.8262,\n",
      "         -2.4899,  0.7601, -0.9587, -1.8500, -0.9067,  0.4490,  0.2202, -0.9315,\n",
      "          0.4163, -0.2204, -1.1324,  0.3305,  0.9290,  0.2980,  0.6911,  0.5495,\n",
      "          1.2889, -0.3042,  1.8314,  0.1699,  0.1395,  0.5358, -0.1730,  0.9023,\n",
      "          0.3669, -1.2088, -0.9257, -1.3620,  1.2746,  0.1350,  1.0187, -0.0418,\n",
      "         -2.2016, -0.2708, -0.8458,  0.0965, -0.7248,  0.4413,  0.1444,  0.1647,\n",
      "          2.7094, -0.0032, -0.9005,  0.5642,  0.5197, -1.1523,  0.0892,  0.7324,\n",
      "          0.2379,  1.8471,  0.7747,  1.8828, -1.0836, -0.9498,  1.8020,  0.1271,\n",
      "         -0.0542,  0.0254,  0.7482, -1.8394,  0.2402,  1.8155, -0.8961,  0.0339],\n",
      "        [-0.1396,  1.4608, -0.7359,  0.4639, -0.9198,  0.8941, -0.5757, -0.5174,\n",
      "          0.0349, -0.5468,  0.3351,  0.8920,  0.5690, -0.2422,  0.3374, -1.1935,\n",
      "          0.3080,  2.9494,  0.1752,  0.7595, -0.6940,  0.1592, -1.0475,  0.2820,\n",
      "         -2.2986,  0.3728, -1.0578, -1.3149,  0.7686, -0.8590, -3.1845, -0.4634,\n",
      "          0.4637, -0.3488, -0.5387, -0.0232,  0.0146, -1.1068, -1.1529,  0.4465,\n",
      "         -3.1962,  0.5884, -0.0320,  1.2319,  1.3257, -0.1740, -0.0913,  0.4056,\n",
      "          0.2816, -0.5601,  0.8868, -0.1456, -1.8426, -0.0845,  0.2206, -0.4631,\n",
      "          1.3653, -1.6214,  0.1947,  0.6371, -2.6402,  1.1455, -0.4260,  0.6110,\n",
      "         -0.3513,  0.8117,  1.8233,  0.6765,  2.3725, -0.5915,  0.0391,  0.3291,\n",
      "         -1.5102, -0.6791, -1.9515, -0.8393,  0.3131, -1.9905,  0.6241, -0.1022,\n",
      "         -1.3663,  0.4934, -3.0307, -0.8484, -1.0864,  0.6053, -1.1053, -0.4122,\n",
      "          1.1122,  0.1650,  0.0602, -0.2372, -0.4782,  0.1662,  0.1759, -0.1308,\n",
      "          0.7556, -0.8313, -0.2826, -0.6701,  0.2876,  1.5442, -0.6696,  0.3672,\n",
      "         -0.5301, -0.3854,  0.8691, -0.6004,  0.5820, -0.6546, -0.9060, -1.6102,\n",
      "          0.5974,  1.2673, -0.0255, -1.3546, -0.6706,  0.0321,  1.2456, -0.5480,\n",
      "         -0.4979,  0.9326, -0.7971, -0.1498,  1.0375,  0.4719,  1.1439, -0.4708,\n",
      "         -1.4332, -1.1556, -0.6026, -1.2203, -1.1540,  0.2337, -0.9766, -1.3645,\n",
      "          1.3346,  0.4640, -0.3237, -0.2840,  0.7862, -0.5107, -1.7312,  0.3872,\n",
      "         -1.0836,  0.1901, -0.6561, -1.8067,  1.1044,  0.7821,  0.8424, -0.3856,\n",
      "         -2.6650,  0.5442,  0.4990,  1.1801,  0.7101,  0.3917, -2.2925, -0.4633,\n",
      "          0.9433, -0.1702,  1.3411,  1.8127, -1.3877, -0.2247,  0.5687, -0.1251,\n",
      "          2.6543,  0.3813,  1.3192, -0.7847,  1.7752, -0.3992, -0.3124, -0.2234,\n",
      "         -0.4472, -0.9794,  0.6693, -0.5352, -0.2858, -1.0847,  0.2711,  0.4261,\n",
      "          0.5543, -0.9025,  0.4388,  0.0196, -0.3575, -0.7032,  0.5534, -0.4097,\n",
      "          1.1353, -0.7897, -0.6323, -1.1385, -0.6466,  0.8605,  0.0475, -0.3660]],\n",
      "       grad_fn=<SelectBackward0>)\n"
     ]
    }
   ],
   "source": [
    "import torch\n",
    "import torch.nn as nn\n",
    "\n",
    "# 假设词汇表大小为100，嵌入维度为200\n",
    "vocab_size = 100\n",
    "embedding_dim = 200\n",
    "\n",
    "# 创建一个Embedding层\n",
    "embedding_layer = nn.Embedding(vocab_size, embedding_dim)\n",
    "\n",
    "# 假设有一个输入张量，每个元素是一个词的索引\n",
    "input_indices = torch.LongTensor([[1, 4, 2], [3, 0, 5]])\n",
    "\n",
    "# 将索引映射为嵌入向量\n",
    "embedded_vectors = embedding_layer(input_indices)\n",
    "\n",
    "# 输出嵌入向量的形状\n",
    "print(embedded_vectors.size())\n",
    "print(embedded_vectors[-1])\n"
   ]
  },
  {
   "cell_type": "code",
   "execution_count": 2,
   "metadata": {},
   "outputs": [
    {
     "ename": "OutOfMemoryError",
     "evalue": "CUDA out of memory. Tried to allocate 23.69 GiB. GPU 2 has a total capacty of 23.68 GiB of which 23.43 GiB is free. Including non-PyTorch memory, this process has 254.00 MiB memory in use. Of the allocated memory 0 bytes is allocated by PyTorch, and 0 bytes is reserved by PyTorch but unallocated. If reserved but unallocated memory is large try setting max_split_size_mb to avoid fragmentation.  See documentation for Memory Management and PYTORCH_CUDA_ALLOC_CONF",
     "output_type": "error",
     "traceback": [
      "\u001b[0;31m---------------------------------------------------------------------------\u001b[0m",
      "\u001b[0;31mOutOfMemoryError\u001b[0m                          Traceback (most recent call last)",
      "Cell \u001b[0;32mIn[2], line 10\u001b[0m\n\u001b[1;32m      6\u001b[0m device \u001b[38;5;241m=\u001b[39m torch\u001b[38;5;241m.\u001b[39mdevice(\u001b[38;5;124m'\u001b[39m\u001b[38;5;124mcuda:2\u001b[39m\u001b[38;5;124m'\u001b[39m)  \u001b[38;5;66;03m# 指定设备编号为2\u001b[39;00m\n\u001b[1;32m      8\u001b[0m total_memory \u001b[38;5;241m=\u001b[39m torch\u001b[38;5;241m.\u001b[39mcuda\u001b[38;5;241m.\u001b[39mget_device_properties(device)\u001b[38;5;241m.\u001b[39mtotal_memory\n\u001b[0;32m---> 10\u001b[0m tmp_tensor \u001b[38;5;241m=\u001b[39m \u001b[43mtorch\u001b[49m\u001b[38;5;241;43m.\u001b[39;49m\u001b[43mempty\u001b[49m\u001b[43m(\u001b[49m\u001b[38;5;28;43mint\u001b[39;49m\u001b[43m(\u001b[49m\u001b[43mtotal_memory\u001b[49m\u001b[43m)\u001b[49m\u001b[43m,\u001b[49m\u001b[43m \u001b[49m\u001b[43mdtype\u001b[49m\u001b[38;5;241;43m=\u001b[39;49m\u001b[43mtorch\u001b[49m\u001b[38;5;241;43m.\u001b[39;49m\u001b[43mint8\u001b[49m\u001b[43m,\u001b[49m\u001b[43m \u001b[49m\u001b[43mdevice\u001b[49m\u001b[38;5;241;43m=\u001b[39;49m\u001b[43mdevice\u001b[49m\u001b[43m)\u001b[49m\n\u001b[1;32m     13\u001b[0m \u001b[38;5;66;03m# 作者：kaiyuan\u001b[39;00m\n\u001b[1;32m     14\u001b[0m \u001b[38;5;66;03m# 链接：https://www.zhihu.com/question/451889681/answer/1814206862\u001b[39;00m\n\u001b[1;32m     15\u001b[0m \u001b[38;5;66;03m# 来源：知乎\u001b[39;00m\n\u001b[1;32m     16\u001b[0m \u001b[38;5;66;03m# 著作权归作者所有。商业转载请联系作者获得授权，非商业转载请注明出处。\u001b[39;00m\n",
      "\u001b[0;31mOutOfMemoryError\u001b[0m: CUDA out of memory. Tried to allocate 23.69 GiB. GPU 2 has a total capacty of 23.68 GiB of which 23.43 GiB is free. Including non-PyTorch memory, this process has 254.00 MiB memory in use. Of the allocated memory 0 bytes is allocated by PyTorch, and 0 bytes is reserved by PyTorch but unallocated. If reserved but unallocated memory is large try setting max_split_size_mb to avoid fragmentation.  See documentation for Memory Management and PYTORCH_CUDA_ALLOC_CONF"
     ]
    }
   ],
   "source": [
    "# 这个python的代码\n",
    "import torch\n",
    "\n",
    "torch.cuda.empty_cache()\n",
    "\n",
    "device = torch.device('cuda:2')  # 指定设备编号为2\n",
    "\n",
    "total_memory = torch.cuda.get_device_properties(device).total_memory\n",
    "\n",
    "tmp_tensor = torch.empty(int(total_memory), dtype=torch.int8, device=device)\n",
    "\n",
    "\n",
    "# 作者：kaiyuan\n",
    "# 链接：https://www.zhihu.com/question/451889681/answer/1814206862\n",
    "# 来源：知乎\n",
    "# 著作权归作者所有。商业转载请联系作者获得授权，非商业转载请注明出处。"
   ]
  },
  {
   "cell_type": "code",
   "execution_count": 2,
   "metadata": {},
   "outputs": [
    {
     "ename": "OutOfMemoryError",
     "evalue": "CUDA out of memory. Tried to allocate 23.69 GiB. GPU 2 has a total capacty of 23.68 GiB of which 23.43 GiB is free. Including non-PyTorch memory, this process has 254.00 MiB memory in use. Of the allocated memory 0 bytes is allocated by PyTorch, and 0 bytes is reserved by PyTorch but unallocated. If reserved but unallocated memory is large try setting max_split_size_mb to avoid fragmentation.  See documentation for Memory Management and PYTORCH_CUDA_ALLOC_CONF",
     "output_type": "error",
     "traceback": [
      "\u001b[0;31m---------------------------------------------------------------------------\u001b[0m",
      "\u001b[0;31mOutOfMemoryError\u001b[0m                          Traceback (most recent call last)",
      "Cell \u001b[0;32mIn[2], line 8\u001b[0m\n\u001b[1;32m      4\u001b[0m device \u001b[38;5;241m=\u001b[39m torch\u001b[38;5;241m.\u001b[39mdevice(\u001b[38;5;124m'\u001b[39m\u001b[38;5;124mcuda:2\u001b[39m\u001b[38;5;124m'\u001b[39m)  \u001b[38;5;66;03m# 指定设备编号为0\u001b[39;00m\n\u001b[1;32m      6\u001b[0m total_memory \u001b[38;5;241m=\u001b[39m torch\u001b[38;5;241m.\u001b[39mcuda\u001b[38;5;241m.\u001b[39mget_device_properties(device)\u001b[38;5;241m.\u001b[39mtotal_memory\n\u001b[0;32m----> 8\u001b[0m tmp_tensor \u001b[38;5;241m=\u001b[39m \u001b[43mtorch\u001b[49m\u001b[38;5;241;43m.\u001b[39;49m\u001b[43mempty\u001b[49m\u001b[43m(\u001b[49m\u001b[38;5;28;43mint\u001b[39;49m\u001b[43m(\u001b[49m\u001b[43mtotal_memory\u001b[49m\u001b[43m)\u001b[49m\u001b[43m,\u001b[49m\u001b[43m \u001b[49m\u001b[43mdtype\u001b[49m\u001b[38;5;241;43m=\u001b[39;49m\u001b[43mtorch\u001b[49m\u001b[38;5;241;43m.\u001b[39;49m\u001b[43mint8\u001b[49m\u001b[43m,\u001b[49m\u001b[43m \u001b[49m\u001b[43mdevice\u001b[49m\u001b[38;5;241;43m=\u001b[39;49m\u001b[43mdevice\u001b[49m\u001b[43m)\u001b[49m\n",
      "\u001b[0;31mOutOfMemoryError\u001b[0m: CUDA out of memory. Tried to allocate 23.69 GiB. GPU 2 has a total capacty of 23.68 GiB of which 23.43 GiB is free. Including non-PyTorch memory, this process has 254.00 MiB memory in use. Of the allocated memory 0 bytes is allocated by PyTorch, and 0 bytes is reserved by PyTorch but unallocated. If reserved but unallocated memory is large try setting max_split_size_mb to avoid fragmentation.  See documentation for Memory Management and PYTORCH_CUDA_ALLOC_CONF"
     ]
    },
    {
     "ename": "",
     "evalue": "",
     "output_type": "error",
     "traceback": [
      "\u001b[1;31m在当前单元格或上一个单元格中执行代码时 Kernel 崩溃。\n",
      "\u001b[1;31m请查看单元格中的代码，以确定故障的可能原因。\n",
      "\u001b[1;31m单击<a href='https://aka.ms/vscodeJupyterKernelCrash'>此处</a>了解详细信息。\n",
      "\u001b[1;31m有关更多详细信息，请查看 Jupyter <a href='command:jupyter.viewOutput'>log</a>。"
     ]
    }
   ],
   "source": [
    "import torch\n",
    "torch.cuda.empty_cache()\n",
    "\n",
    "device = torch.device('cuda:2')  # 指定设备编号为0\n",
    "\n",
    "total_memory = torch.cuda.get_device_properties(device).total_memory\n",
    "\n",
    "tmp_tensor = torch.empty(int(total_memory), dtype=torch.int8, device=device)\n"
   ]
  },
  {
   "cell_type": "code",
   "execution_count": 1,
   "metadata": {},
   "outputs": [],
   "source": [
    "import random\n",
    "\n",
    "# 生成10个0到1之间的小数，保留4位小数\n",
    "train_losses =  sorted([round(random.uniform(0, 1), 4) for _ in range(10)])\n",
    "val_losses =  sorted([round(random.uniform(0, 1), 4) for _ in range(10)])\n",
    "\n",
    "train_accs = [round(random.uniform(0, 1), 4) for _ in range(10)]\n",
    "val_accs = [round(random.uniform(0, 1), 4) for _ in range(10)]\n",
    "# print(random_numbers)\n"
   ]
  },
  {
   "cell_type": "code",
   "execution_count": 5,
   "metadata": {},
   "outputs": [
    {
     "data": {
      "image/png": "[encoded data removed]",
      "text/plain": [
       "<Figure size 640x480 with 1 Axes>"
      ]
     },
     "metadata": {},
     "output_type": "display_data"
    }
   ],
   "source": [
    "import matplotlib.pyplot as plt\n",
    "\n",
    "plt.plot(train_losses, label='train_loss')\n",
    "plt.plot(val_losses, label='val_loss')\n",
    "plt.xlabel('epoch')\n",
    "plt.ylabel('loss')\n",
    "plt.legend()\n",
    "plt.savefig('lossttt.png')\n",
    "# 清空plot\n",
    "plt.clf()\n",
    "plt.plot(train_accs, label='train_acc')\n",
    "plt.plot(val_accs, label='val_acc')\n",
    "plt.xlabel('epoch')\n",
    "plt.ylabel('loss')\n",
    "plt.legend()\n",
    "plt.savefig('accttt.png')"
   ]
  },
  {
   "cell_type": "code",
   "execution_count": 9,
   "metadata": {},
   "outputs": [
    {
     "ename": "ModuleNotFoundError",
     "evalue": "No module named 'torch'",
     "output_type": "error",
     "traceback": [
      "\u001b[0;31m---------------------------------------------------------------------------\u001b[0m",
      "\u001b[0;31mModuleNotFoundError\u001b[0m                       Traceback (most recent call last)",
      "\u001b[0;32m/tmp/ipykernel_609711/560421718.py\u001b[0m in \u001b[0;36m<module>\u001b[0;34m\u001b[0m\n\u001b[1;32m      2\u001b[0m \u001b[0;32mimport\u001b[0m \u001b[0mpickle\u001b[0m\u001b[0;34m\u001b[0m\u001b[0;34m\u001b[0m\u001b[0m\n\u001b[1;32m      3\u001b[0m \u001b[0;32mwith\u001b[0m \u001b[0mopen\u001b[0m\u001b[0;34m(\u001b[0m\u001b[0mtrain_data_dir\u001b[0m\u001b[0;34m+\u001b[0m\u001b[0;34m'train_batch_'\u001b[0m\u001b[0;34m+\u001b[0m\u001b[0mstr\u001b[0m\u001b[0;34m(\u001b[0m\u001b[0;36m1\u001b[0m\u001b[0;34m)\u001b[0m\u001b[0;34m+\u001b[0m\u001b[0;34m'.pkl'\u001b[0m\u001b[0;34m,\u001b[0m \u001b[0;34m'rb'\u001b[0m\u001b[0;34m)\u001b[0m \u001b[0;32mas\u001b[0m \u001b[0mf\u001b[0m\u001b[0;34m:\u001b[0m\u001b[0;34m\u001b[0m\u001b[0;34m\u001b[0m\u001b[0m\n\u001b[0;32m----> 4\u001b[0;31m     \u001b[0mbatch\u001b[0m \u001b[0;34m=\u001b[0m \u001b[0mpickle\u001b[0m\u001b[0;34m.\u001b[0m\u001b[0mload\u001b[0m\u001b[0;34m(\u001b[0m\u001b[0mf\u001b[0m\u001b[0;34m)\u001b[0m\u001b[0;34m\u001b[0m\u001b[0;34m\u001b[0m\u001b[0m\n\u001b[0m\u001b[1;32m      5\u001b[0m     \u001b[0msequence\u001b[0m \u001b[0;34m=\u001b[0m \u001b[0mbatch\u001b[0m\u001b[0;34m[\u001b[0m\u001b[0;36m0\u001b[0m\u001b[0;34m]\u001b[0m\u001b[0;34m.\u001b[0m\u001b[0mto\u001b[0m\u001b[0;34m(\u001b[0m\u001b[0mtorch\u001b[0m\u001b[0;34m.\u001b[0m\u001b[0mfloat32\u001b[0m\u001b[0;34m)\u001b[0m\u001b[0;34m.\u001b[0m\u001b[0mpermute\u001b[0m\u001b[0;34m(\u001b[0m\u001b[0;36m0\u001b[0m\u001b[0;34m,\u001b[0m \u001b[0;36m2\u001b[0m\u001b[0;34m,\u001b[0m \u001b[0;36m1\u001b[0m\u001b[0;34m)\u001b[0m\u001b[0;34m.\u001b[0m\u001b[0munsqueeze\u001b[0m\u001b[0;34m(\u001b[0m\u001b[0;36m1\u001b[0m\u001b[0;34m)\u001b[0m\u001b[0;34m.\u001b[0m\u001b[0mto\u001b[0m\u001b[0;34m(\u001b[0m\u001b[0mdevice\u001b[0m\u001b[0;34m)\u001b[0m\u001b[0;34m\u001b[0m\u001b[0;34m\u001b[0m\u001b[0m\n\u001b[1;32m      6\u001b[0m     \u001b[0mlabel\u001b[0m \u001b[0;34m=\u001b[0m \u001b[0mbatch\u001b[0m\u001b[0;34m[\u001b[0m\u001b[0;36m1\u001b[0m\u001b[0;34m]\u001b[0m\u001b[0;34m.\u001b[0m\u001b[0mto\u001b[0m\u001b[0;34m(\u001b[0m\u001b[0mtorch\u001b[0m\u001b[0;34m.\u001b[0m\u001b[0mfloat32\u001b[0m\u001b[0;34m)\u001b[0m\u001b[0;34m.\u001b[0m\u001b[0mto\u001b[0m\u001b[0;34m(\u001b[0m\u001b[0mdevice\u001b[0m\u001b[0;34m)\u001b[0m\u001b[0;34m\u001b[0m\u001b[0;34m\u001b[0m\u001b[0m\n",
      "\u001b[0;31mModuleNotFoundError\u001b[0m: No module named 'torch'"
     ]
    }
   ],
   "source": [
    "train_data_dir = '/Data4/gly_wkdir/coldgenepredict/raw_sec/S_italica/分好的数据集csv/二进制分批数据集/train/'\n",
    "import pickle\n",
    "with open(train_data_dir+'train_batch_'+str(1)+'.pkl', 'rb') as f:\n",
    "    batch = pickle.load(f)\n",
    "    sequence = batch[0].to(torch.float32).permute(0, 2, 1).unsqueeze(1).to(device)\n",
    "    label = batch[1].to(torch.float32).to(device)\n",
    "    # 查看标签的分布\n",
    "    print(label.mean())\n",
    "\n",
    "\n"
   ]
  },
  {
   "cell_type": "code",
   "execution_count": 10,
   "metadata": {},
   "outputs": [
    {
     "name": "stdout",
     "output_type": "stream",
     "text": [
      "\u001b[94mThis is a blue text.\u001b[0m\n",
      "\u001b[93mThis is a warning text.\u001b[0m\n",
      "\u001b[91mThis is a fail text.\u001b[0m\n"
     ]
    }
   ],
   "source": [
    "# ANSI 转义码定义颜色\n",
    "class bcolors:\n",
    "    HEADER = '\\033[95m'\n",
    "    OKBLUE = '\\033[94m'\n",
    "    OKGREEN = '\\033[92m'\n",
    "    WARNING = '\\033[93m'\n",
    "    FAIL = '\\033[91m'\n",
    "    ENDC = '\\033[0m'\n",
    "    BOLD = '\\033[1m'\n",
    "    UNDERLINE = '\\033[4m'\n",
    "\n",
    "# 使用颜色输出\n",
    "print(f\"{bcolors.OKBLUE}This is a blue text.{bcolors.ENDC}\")\n",
    "print(f\"{bcolors.WARNING}This is a warning text.{bcolors.ENDC}\")\n",
    "print(f\"{bcolors.FAIL}This is a fail text.{bcolors.ENDC}\")\n"
   ]
  },
  {
   "cell_type": "code",
   "execution_count": 13,
   "metadata": {},
   "outputs": [
    {
     "name": "stdout",
     "output_type": "stream",
     "text": [
      "tensor([[[ 0.0998,  0.6486,  1.3596,  0.9276, -0.6701],\n",
      "         [-0.7041,  1.6789,  0.9009, -0.0642,  0.6626],\n",
      "         [ 1.9269, -0.9433,  2.1135, -0.8710,  0.7194]],\n",
      "\n",
      "        [[-0.7041,  1.6789,  0.9009, -0.0642,  0.6626],\n",
      "         [ 0.0998,  0.6486,  1.3596,  0.9276, -0.6701],\n",
      "         [ 0.3562, -0.2997,  0.1108,  0.0980, -0.4070]]],\n",
      "       grad_fn=<EmbeddingBackward0>)\n",
      "tensor([[[ 0.0660, -0.5946, -0.8315, -0.9325,  0.0886],\n",
      "         [ 1.1981,  1.7968, -0.6174, -1.0448,  0.1236],\n",
      "         [-0.5655, -0.4027,  0.8215, -1.2259,  2.0235]],\n",
      "\n",
      "        [[ 1.1981,  1.7968, -0.6174, -1.0448,  0.1236],\n",
      "         [ 0.0660, -0.5946, -0.8315, -0.9325,  0.0886],\n",
      "         [ 0.0000,  0.0000,  0.0000,  0.0000,  0.0000]]],\n",
      "       grad_fn=<EmbeddingBackward0>)\n"
     ]
    }
   ],
   "source": [
    "import torch\n",
    "import torch.nn as nn\n",
    "\n",
    "a = torch.tensor([[1,2,3], [2,1,0]])\n",
    "net = nn.Embedding(num_embeddings=10, embedding_dim=5)  # 并未设置padding_index参数\n",
    "print(net(a))\n",
    "\n",
    "net = nn.Embedding(num_embeddings=10, embedding_dim=5, padding_idx=0)\n",
    "print(net(a))"
   ]
  },
  {
   "cell_type": "code",
   "execution_count": 42,
   "metadata": {},
   "outputs": [
    {
     "name": "stdout",
     "output_type": "stream",
     "text": [
      "tensor([[[ 0.0000,  0.0000,  0.0000,  0.0000,  0.0000],\n",
      "         [ 0.6277,  0.7734, -0.2388,  1.5212,  0.1412],\n",
      "         [ 1.3355,  1.2613, -1.3401,  0.4666,  0.0279],\n",
      "         [ 0.2684,  1.1881,  1.0919, -1.4586, -1.0775],\n",
      "         [ 0.2684,  1.1881,  1.0919, -1.4586, -1.0775],\n",
      "         [ 0.2684,  1.1881,  1.0919, -1.4586, -1.0775]],\n",
      "\n",
      "        [[-0.6562,  0.6157,  0.2941,  0.4966, -2.2336],\n",
      "         [-0.2847,  0.3101,  0.5156,  1.1138, -1.1316],\n",
      "         [-0.1117, -0.5562, -0.5425,  0.0519, -0.6485],\n",
      "         [-0.3836, -0.3585,  0.1276,  1.0731,  0.9092],\n",
      "         [ 0.2684,  1.1881,  1.0919, -1.4586, -1.0775],\n",
      "         [ 0.2684,  1.1881,  1.0919, -1.4586, -1.0775]],\n",
      "\n",
      "        [[ 1.5688, -0.1014, -1.4711,  0.2026,  1.5185],\n",
      "         [ 0.5544,  0.2456, -0.6664,  0.0346,  0.7820],\n",
      "         [ 0.1673,  0.3437,  0.1484,  0.7142, -0.1526],\n",
      "         [ 1.8919,  1.6237,  1.1682,  1.3470, -1.0067],\n",
      "         [ 0.4937, -0.6931,  0.8153, -0.4091,  1.2370],\n",
      "         [ 0.2684,  1.1881,  1.0919, -1.4586, -1.0775]]],\n",
      "       grad_fn=<EmbeddingBackward0>)\n"
     ]
    }
   ],
   "source": [
    "import torch\n",
    "import torch.nn as nn\n",
    "\n",
    "# 定义输入序列\n",
    "sequences = [\n",
    "    [1, 2, 3],        # 长度为3的序列\n",
    "    [4, 5, 6, 7],     # 长度为4的序列\n",
    "    [8, 9, 10, 11, 12]  # 长度为5的序列\n",
    "]\n",
    "\n",
    "# 求出最长序列的长度\n",
    "max_length = max(len(seq) for seq in sequences)\n",
    "\n",
    "# 填充所有序列到相同的长度\n",
    "padded_sequences = [seq + [0] * (max_length - len(seq)) for seq in sequences]\n",
    "\n",
    "# 转换成张量\n",
    "tensor_sequences = torch.tensor(padded_sequences)\n",
    "\n",
    "# 创建 Embedding 层\n",
    "embedding = nn.Embedding(num_embeddings=13, embedding_dim=5, padding_idx=1)\n",
    "\n",
    "# 获取嵌入表示\n",
    "embeddings = embedding(tensor_sequences)\n",
    "\n",
    "print(embeddings)\n"
   ]
  },
  {
   "cell_type": "code",
   "execution_count": 48,
   "metadata": {},
   "outputs": [
    {
     "name": "stdout",
     "output_type": "stream",
     "text": [
      "tensor([[[[1., 0., 1., 1.],\n",
      "          [1., 1., 0., 1.],\n",
      "          [0., 1., 0., 1.],\n",
      "          [0., 0., 0., 0.],\n",
      "          [0., 1., 1., 0.]]],\n",
      "\n",
      "\n",
      "        [[[1., 0., 1., 1.],\n",
      "          [0., 1., 1., 1.],\n",
      "          [0., 0., 0., 1.],\n",
      "          [1., 0., 0., 0.],\n",
      "          [1., 1., 0., 1.]]]])\n",
      "池化后的张量形状: torch.Size([2, 1, 5, 2])\n",
      "tensor([[[[1., 1.],\n",
      "          [1., 1.],\n",
      "          [1., 1.],\n",
      "          [0., 0.],\n",
      "          [1., 1.]]],\n",
      "\n",
      "\n",
      "        [[[1., 1.],\n",
      "          [1., 1.],\n",
      "          [0., 1.],\n",
      "          [1., 0.],\n",
      "          [1., 1.]]]])\n"
     ]
    }
   ],
   "source": [
    "import torch\n",
    "import torch.nn.functional as F\n",
    "\n",
    "# 假设输入张量为 x，大小为 32x1x5x46386\n",
    "x = torch.randn(2, 1, 5, 4)\n",
    "x = torch.where(x > 0, torch.tensor(1.0, dtype=torch.float32), torch.tensor(0.0, dtype=torch.float32))\n",
    "\n",
    "print(x)\n",
    "# 指定池化后的输出大小\n",
    "output_size = (5, 2)  # 输出大小为 1x1\n",
    "\n",
    "# 使用 adaptive_max_pool2d 进行自适应最大池化\n",
    "pooled_tensor = F.adaptive_max_pool2d(x, output_size)\n",
    "\n",
    "# 打印池化后的张量形状\n",
    "print(\"池化后的张量形状:\", pooled_tensor.shape)\n",
    "print(pooled_tensor)"
   ]
  },
  {
   "cell_type": "code",
   "execution_count": 51,
   "metadata": {},
   "outputs": [
    {
     "name": "stdout",
     "output_type": "stream",
     "text": [
      "池化后的张量形状: torch.Size([2, 1, 5, 2])\n",
      "tensor([[[[1., 1.],\n",
      "          [1., 1.],\n",
      "          [1., 1.],\n",
      "          [0., 0.],\n",
      "          [1., 1.]]],\n",
      "\n",
      "\n",
      "        [[[1., 1.],\n",
      "          [1., 1.],\n",
      "          [0., 1.],\n",
      "          [1., 0.],\n",
      "          [1., 1.]]]])\n"
     ]
    }
   ],
   "source": [
    "# 指定池化核的大小和步幅\n",
    "kernel_size = (1, 2)  # 池化核大小为 1x5\n",
    "stride = (1, 2)        # 步幅为 1x5\n",
    "\n",
    "# 使用 max_pool2d 进行池化\n",
    "pooled_tensor = F.max_pool2d(x, kernel_size=kernel_size, stride=stride)\n",
    "# 打印池化后的张量形状\n",
    "print(\"池化后的张量形状:\", pooled_tensor.shape)\n",
    "print(pooled_tensor)"
   ]
  },
  {
   "cell_type": "code",
   "execution_count": 81,
   "metadata": {},
   "outputs": [
    {
     "name": "stdout",
     "output_type": "stream",
     "text": [
      "torch.Size([32, 46398, 5])\n",
      "<class 'list'>\n",
      "2\n",
      "torch.Size([32, 46398, 5])\n",
      "torch.Size([32])\n",
      "tensor([1., 1., 1., 0., 0., 1., 0., 0., 1., 0., 1., 0., 1., 1., 1., 1., 1., 1.,\n",
      "        0., 0., 0., 1., 1., 1., 0., 1., 0., 0., 0., 0., 0., 0.])\n"
     ]
    }
   ],
   "source": [
    "train_data_dir = '/Data4/gly_wkdir/coldgenepredict/raw_sec/S_italica/分好的数据集csv/二进制分批数据集/train/'\n",
    "import pickle, torch, random\n",
    "with open(train_data_dir+'train_batch_'+str(1)+'.pkl', 'rb') as f:\n",
    "    batch = pickle.load(f)\n",
    "    # random.shuffle(batch)\n",
    "    sequence = batch[0].to(torch.float32)\n",
    "    label = batch[1].to(torch.float32)\n",
    "    print(sequence.shape)\n",
    "    size_0_sequence = sequence.size(0)\n",
    "    size_0_label = label.size(0)\n",
    "\n",
    "    # 生成相同的随机排列索引\n",
    "    permuted_index = torch.randperm(size_0_sequence)\n",
    "\n",
    "    # 使用相同的索引对两个张量进行重新排列\n",
    "    permuted_sequence = sequence[permuted_index]\n",
    "    permuted_label = label[permuted_index]\n",
    "\n",
    "    # 查看标签的分布\n",
    "    print(type(batch))\n",
    "    print(len(batch))\n",
    "    print(permuted_sequence.shape)\n",
    "    print(permuted_label.shape)\n",
    "    print(permuted_label)"
   ]
  },
  {
   "cell_type": "code",
   "execution_count": 85,
   "metadata": {},
   "outputs": [
    {
     "name": "stdout",
     "output_type": "stream",
     "text": [
      "tensor([[[ 0.9020],\n",
      "         [ 1.8761]],\n",
      "\n",
      "        [[ 0.3737],\n",
      "         [-0.0800]],\n",
      "\n",
      "        [[-0.4059],\n",
      "         [ 1.0705]],\n",
      "\n",
      "        [[ 0.5663],\n",
      "         [ 0.2678]]])\n",
      "tensor([-0.2940,  0.5546, -1.0710,  0.9444])\n",
      "tensor([[[-0.4059],\n",
      "         [ 1.0705]],\n",
      "\n",
      "        [[ 0.5663],\n",
      "         [ 0.2678]],\n",
      "\n",
      "        [[ 0.9020],\n",
      "         [ 1.8761]],\n",
      "\n",
      "        [[ 0.3737],\n",
      "         [-0.0800]]])\n",
      "tensor([-1.0710,  0.9444, -0.2940,  0.5546])\n"
     ]
    }
   ],
   "source": [
    "import torch\n",
    "\n",
    "# 创建示例张量\n",
    "tensor_large = torch.randn(4, 2, 1)\n",
    "tensor_small = torch.randn(4)\n",
    "print(tensor_large)\n",
    "print(tensor_small)\n",
    "# 获取张量的大小\n",
    "size_0_large = tensor_large.size(0)\n",
    "size_0_small = tensor_small.size(0)\n",
    "\n",
    "# 设置随机数种子\n",
    "# torch.manual_seed(42)\n",
    "\n",
    "# 生成相同的随机排列索引\n",
    "permuted_index = torch.randperm(size_0_large)\n",
    "\n",
    "# 使用相同的索引对两个张量进行重新排列\n",
    "permuted_tensor_large = tensor_large[permuted_index]\n",
    "permuted_tensor_small = tensor_small[permuted_index]\n",
    "\n",
    "print(permuted_tensor_large)\n",
    "print(permuted_tensor_small)\n"
   ]
  },
  {
   "cell_type": "code",
   "execution_count": 3,
   "metadata": {},
   "outputs": [
    {
     "name": "stdout",
     "output_type": "stream",
     "text": [
      "\u001b[95mThis is a blue text.\u001b[0m\n"
     ]
    }
   ],
   "source": [
    "class bcolors:\n",
    "    HEADER = '\\033[95m'\n",
    "    OKBLUE = '\\033[94m'\n",
    "    OKGREEN = '\\033[92m'\n",
    "    WARNING = '\\033[93m'\n",
    "    FAIL = '\\033[91m'\n",
    "    ENDC = '\\033[0m'\n",
    "    BOLD = '\\033[1m'\n",
    "    UNDERLINE = '\\033[4m'\n",
    "\n",
    "print(f\"{bcolors.HEADER}This is a blue text.{bcolors.ENDC}\")"
   ]
  },
  {
   "cell_type": "code",
   "execution_count": 22,
   "metadata": {},
   "outputs": [
    {
     "name": "stdout",
     "output_type": "stream",
     "text": [
      "torch.Size([690, 1])\n"
     ]
    },
    {
     "ename": "RuntimeError",
     "evalue": "running_mean should contain 1 elements not 690",
     "output_type": "error",
     "traceback": [
      "\u001b[0;31m---------------------------------------------------------------------------\u001b[0m",
      "\u001b[0;31mRuntimeError\u001b[0m                              Traceback (most recent call last)",
      "Cell \u001b[0;32mIn[22], line 15\u001b[0m\n\u001b[1;32m     12\u001b[0m batch_norm \u001b[38;5;241m=\u001b[39m nn\u001b[38;5;241m.\u001b[39mBatchNorm1d(\u001b[38;5;241m690\u001b[39m)\n\u001b[1;32m     14\u001b[0m \u001b[38;5;66;03m# 应用批量归一化\u001b[39;00m\n\u001b[0;32m---> 15\u001b[0m normalized_output \u001b[38;5;241m=\u001b[39m \u001b[43mbatch_norm\u001b[49m\u001b[43m(\u001b[49m\u001b[43minput_data\u001b[49m\u001b[43m)\u001b[49m\n\u001b[1;32m     17\u001b[0m \u001b[38;5;28mprint\u001b[39m(\u001b[38;5;124m\"\u001b[39m\u001b[38;5;124m归一化后的输出:\u001b[39m\u001b[38;5;124m\"\u001b[39m, normalized_output)\n",
      "File \u001b[0;32m/Data4/gly_wkdir/environment/yolo2/lib/python3.9/site-packages/torch/nn/modules/module.py:1518\u001b[0m, in \u001b[0;36mModule._wrapped_call_impl\u001b[0;34m(self, *args, **kwargs)\u001b[0m\n\u001b[1;32m   1516\u001b[0m     \u001b[38;5;28;01mreturn\u001b[39;00m \u001b[38;5;28mself\u001b[39m\u001b[38;5;241m.\u001b[39m_compiled_call_impl(\u001b[38;5;241m*\u001b[39margs, \u001b[38;5;241m*\u001b[39m\u001b[38;5;241m*\u001b[39mkwargs)  \u001b[38;5;66;03m# type: ignore[misc]\u001b[39;00m\n\u001b[1;32m   1517\u001b[0m \u001b[38;5;28;01melse\u001b[39;00m:\n\u001b[0;32m-> 1518\u001b[0m     \u001b[38;5;28;01mreturn\u001b[39;00m \u001b[38;5;28;43mself\u001b[39;49m\u001b[38;5;241;43m.\u001b[39;49m\u001b[43m_call_impl\u001b[49m\u001b[43m(\u001b[49m\u001b[38;5;241;43m*\u001b[39;49m\u001b[43margs\u001b[49m\u001b[43m,\u001b[49m\u001b[43m \u001b[49m\u001b[38;5;241;43m*\u001b[39;49m\u001b[38;5;241;43m*\u001b[39;49m\u001b[43mkwargs\u001b[49m\u001b[43m)\u001b[49m\n",
      "File \u001b[0;32m/Data4/gly_wkdir/environment/yolo2/lib/python3.9/site-packages/torch/nn/modules/module.py:1527\u001b[0m, in \u001b[0;36mModule._call_impl\u001b[0;34m(self, *args, **kwargs)\u001b[0m\n\u001b[1;32m   1522\u001b[0m \u001b[38;5;66;03m# If we don't have any hooks, we want to skip the rest of the logic in\u001b[39;00m\n\u001b[1;32m   1523\u001b[0m \u001b[38;5;66;03m# this function, and just call forward.\u001b[39;00m\n\u001b[1;32m   1524\u001b[0m \u001b[38;5;28;01mif\u001b[39;00m \u001b[38;5;129;01mnot\u001b[39;00m (\u001b[38;5;28mself\u001b[39m\u001b[38;5;241m.\u001b[39m_backward_hooks \u001b[38;5;129;01mor\u001b[39;00m \u001b[38;5;28mself\u001b[39m\u001b[38;5;241m.\u001b[39m_backward_pre_hooks \u001b[38;5;129;01mor\u001b[39;00m \u001b[38;5;28mself\u001b[39m\u001b[38;5;241m.\u001b[39m_forward_hooks \u001b[38;5;129;01mor\u001b[39;00m \u001b[38;5;28mself\u001b[39m\u001b[38;5;241m.\u001b[39m_forward_pre_hooks\n\u001b[1;32m   1525\u001b[0m         \u001b[38;5;129;01mor\u001b[39;00m _global_backward_pre_hooks \u001b[38;5;129;01mor\u001b[39;00m _global_backward_hooks\n\u001b[1;32m   1526\u001b[0m         \u001b[38;5;129;01mor\u001b[39;00m _global_forward_hooks \u001b[38;5;129;01mor\u001b[39;00m _global_forward_pre_hooks):\n\u001b[0;32m-> 1527\u001b[0m     \u001b[38;5;28;01mreturn\u001b[39;00m \u001b[43mforward_call\u001b[49m\u001b[43m(\u001b[49m\u001b[38;5;241;43m*\u001b[39;49m\u001b[43margs\u001b[49m\u001b[43m,\u001b[49m\u001b[43m \u001b[49m\u001b[38;5;241;43m*\u001b[39;49m\u001b[38;5;241;43m*\u001b[39;49m\u001b[43mkwargs\u001b[49m\u001b[43m)\u001b[49m\n\u001b[1;32m   1529\u001b[0m \u001b[38;5;28;01mtry\u001b[39;00m:\n\u001b[1;32m   1530\u001b[0m     result \u001b[38;5;241m=\u001b[39m \u001b[38;5;28;01mNone\u001b[39;00m\n",
      "File \u001b[0;32m/Data4/gly_wkdir/environment/yolo2/lib/python3.9/site-packages/torch/nn/modules/batchnorm.py:171\u001b[0m, in \u001b[0;36m_BatchNorm.forward\u001b[0;34m(self, input)\u001b[0m\n\u001b[1;32m    164\u001b[0m     bn_training \u001b[38;5;241m=\u001b[39m (\u001b[38;5;28mself\u001b[39m\u001b[38;5;241m.\u001b[39mrunning_mean \u001b[38;5;129;01mis\u001b[39;00m \u001b[38;5;28;01mNone\u001b[39;00m) \u001b[38;5;129;01mand\u001b[39;00m (\u001b[38;5;28mself\u001b[39m\u001b[38;5;241m.\u001b[39mrunning_var \u001b[38;5;129;01mis\u001b[39;00m \u001b[38;5;28;01mNone\u001b[39;00m)\n\u001b[1;32m    166\u001b[0m \u001b[38;5;250m\u001b[39m\u001b[38;5;124mr\u001b[39m\u001b[38;5;124;03m\"\"\"\u001b[39;00m\n\u001b[1;32m    167\u001b[0m \u001b[38;5;124;03mBuffers are only updated if they are to be tracked and we are in training mode. Thus they only need to be\u001b[39;00m\n\u001b[1;32m    168\u001b[0m \u001b[38;5;124;03mpassed when the update should occur (i.e. in training mode when they are tracked), or when buffer stats are\u001b[39;00m\n\u001b[1;32m    169\u001b[0m \u001b[38;5;124;03mused for normalization (i.e. in eval mode when buffers are not None).\u001b[39;00m\n\u001b[1;32m    170\u001b[0m \u001b[38;5;124;03m\"\"\"\u001b[39;00m\n\u001b[0;32m--> 171\u001b[0m \u001b[38;5;28;01mreturn\u001b[39;00m \u001b[43mF\u001b[49m\u001b[38;5;241;43m.\u001b[39;49m\u001b[43mbatch_norm\u001b[49m\u001b[43m(\u001b[49m\n\u001b[1;32m    172\u001b[0m \u001b[43m    \u001b[49m\u001b[38;5;28;43minput\u001b[39;49m\u001b[43m,\u001b[49m\n\u001b[1;32m    173\u001b[0m \u001b[43m    \u001b[49m\u001b[38;5;66;43;03m# If buffers are not to be tracked, ensure that they won't be updated\u001b[39;49;00m\n\u001b[1;32m    174\u001b[0m \u001b[43m    \u001b[49m\u001b[38;5;28;43mself\u001b[39;49m\u001b[38;5;241;43m.\u001b[39;49m\u001b[43mrunning_mean\u001b[49m\n\u001b[1;32m    175\u001b[0m \u001b[43m    \u001b[49m\u001b[38;5;28;43;01mif\u001b[39;49;00m\u001b[43m \u001b[49m\u001b[38;5;129;43;01mnot\u001b[39;49;00m\u001b[43m \u001b[49m\u001b[38;5;28;43mself\u001b[39;49m\u001b[38;5;241;43m.\u001b[39;49m\u001b[43mtraining\u001b[49m\u001b[43m \u001b[49m\u001b[38;5;129;43;01mor\u001b[39;49;00m\u001b[43m \u001b[49m\u001b[38;5;28;43mself\u001b[39;49m\u001b[38;5;241;43m.\u001b[39;49m\u001b[43mtrack_running_stats\u001b[49m\n\u001b[1;32m    176\u001b[0m \u001b[43m    \u001b[49m\u001b[38;5;28;43;01melse\u001b[39;49;00m\u001b[43m \u001b[49m\u001b[38;5;28;43;01mNone\u001b[39;49;00m\u001b[43m,\u001b[49m\n\u001b[1;32m    177\u001b[0m \u001b[43m    \u001b[49m\u001b[38;5;28;43mself\u001b[39;49m\u001b[38;5;241;43m.\u001b[39;49m\u001b[43mrunning_var\u001b[49m\u001b[43m \u001b[49m\u001b[38;5;28;43;01mif\u001b[39;49;00m\u001b[43m \u001b[49m\u001b[38;5;129;43;01mnot\u001b[39;49;00m\u001b[43m \u001b[49m\u001b[38;5;28;43mself\u001b[39;49m\u001b[38;5;241;43m.\u001b[39;49m\u001b[43mtraining\u001b[49m\u001b[43m \u001b[49m\u001b[38;5;129;43;01mor\u001b[39;49;00m\u001b[43m \u001b[49m\u001b[38;5;28;43mself\u001b[39;49m\u001b[38;5;241;43m.\u001b[39;49m\u001b[43mtrack_running_stats\u001b[49m\u001b[43m \u001b[49m\u001b[38;5;28;43;01melse\u001b[39;49;00m\u001b[43m \u001b[49m\u001b[38;5;28;43;01mNone\u001b[39;49;00m\u001b[43m,\u001b[49m\n\u001b[1;32m    178\u001b[0m \u001b[43m    \u001b[49m\u001b[38;5;28;43mself\u001b[39;49m\u001b[38;5;241;43m.\u001b[39;49m\u001b[43mweight\u001b[49m\u001b[43m,\u001b[49m\n\u001b[1;32m    179\u001b[0m \u001b[43m    \u001b[49m\u001b[38;5;28;43mself\u001b[39;49m\u001b[38;5;241;43m.\u001b[39;49m\u001b[43mbias\u001b[49m\u001b[43m,\u001b[49m\n\u001b[1;32m    180\u001b[0m \u001b[43m    \u001b[49m\u001b[43mbn_training\u001b[49m\u001b[43m,\u001b[49m\n\u001b[1;32m    181\u001b[0m \u001b[43m    \u001b[49m\u001b[43mexponential_average_factor\u001b[49m\u001b[43m,\u001b[49m\n\u001b[1;32m    182\u001b[0m \u001b[43m    \u001b[49m\u001b[38;5;28;43mself\u001b[39;49m\u001b[38;5;241;43m.\u001b[39;49m\u001b[43meps\u001b[49m\u001b[43m,\u001b[49m\n\u001b[1;32m    183\u001b[0m \u001b[43m\u001b[49m\u001b[43m)\u001b[49m\n",
      "File \u001b[0;32m/Data4/gly_wkdir/environment/yolo2/lib/python3.9/site-packages/torch/nn/functional.py:2478\u001b[0m, in \u001b[0;36mbatch_norm\u001b[0;34m(input, running_mean, running_var, weight, bias, training, momentum, eps)\u001b[0m\n\u001b[1;32m   2475\u001b[0m \u001b[38;5;28;01mif\u001b[39;00m training:\n\u001b[1;32m   2476\u001b[0m     _verify_batch_size(\u001b[38;5;28minput\u001b[39m\u001b[38;5;241m.\u001b[39msize())\n\u001b[0;32m-> 2478\u001b[0m \u001b[38;5;28;01mreturn\u001b[39;00m \u001b[43mtorch\u001b[49m\u001b[38;5;241;43m.\u001b[39;49m\u001b[43mbatch_norm\u001b[49m\u001b[43m(\u001b[49m\n\u001b[1;32m   2479\u001b[0m \u001b[43m    \u001b[49m\u001b[38;5;28;43minput\u001b[39;49m\u001b[43m,\u001b[49m\u001b[43m \u001b[49m\u001b[43mweight\u001b[49m\u001b[43m,\u001b[49m\u001b[43m \u001b[49m\u001b[43mbias\u001b[49m\u001b[43m,\u001b[49m\u001b[43m \u001b[49m\u001b[43mrunning_mean\u001b[49m\u001b[43m,\u001b[49m\u001b[43m \u001b[49m\u001b[43mrunning_var\u001b[49m\u001b[43m,\u001b[49m\u001b[43m \u001b[49m\u001b[43mtraining\u001b[49m\u001b[43m,\u001b[49m\u001b[43m \u001b[49m\u001b[43mmomentum\u001b[49m\u001b[43m,\u001b[49m\u001b[43m \u001b[49m\u001b[43meps\u001b[49m\u001b[43m,\u001b[49m\u001b[43m \u001b[49m\u001b[43mtorch\u001b[49m\u001b[38;5;241;43m.\u001b[39;49m\u001b[43mbackends\u001b[49m\u001b[38;5;241;43m.\u001b[39;49m\u001b[43mcudnn\u001b[49m\u001b[38;5;241;43m.\u001b[39;49m\u001b[43menabled\u001b[49m\n\u001b[1;32m   2480\u001b[0m \u001b[43m\u001b[49m\u001b[43m)\u001b[49m\n",
      "\u001b[0;31mRuntimeError\u001b[0m: running_mean should contain 1 elements not 690"
     ]
    }
   ],
   "source": [
    "import torch\n",
    "import torch.nn as nn\n",
    "\n",
    "# 输入数据\n",
    "input_data = torch.randn(3, 5, 46)\n",
    "# print(input_data)\n",
    "# 将输入数据转换为二维张量，因为 Batch Normalization 期望的是一个 batch 数据\n",
    "input_data = input_data.view(-1, 1)\n",
    "print(input_data.shape)\n",
    "\n",
    "# 批量归一化层，输入的特征维度为 3\n",
    "batch_norm = nn.BatchNorm1d(690)\n",
    "\n",
    "# 应用批量归一化\n",
    "normalized_output = batch_norm(input_data)\n",
    "\n",
    "print(\"归一化后的输出:\", normalized_output)\n"
   ]
  },
  {
   "cell_type": "code",
   "execution_count": null,
   "metadata": {},
   "outputs": [
    {
     "ename": "",
     "evalue": "",
     "output_type": "error",
     "traceback": [
      "\u001b[1;31m在当前单元格或上一个单元格中执行代码时 Kernel 崩溃。\n",
      "\u001b[1;31m请查看单元格中的代码，以确定故障的可能原因。\n",
      "\u001b[1;31m单击<a href='https://aka.ms/vscodeJupyterKernelCrash'>此处</a>了解详细信息。\n",
      "\u001b[1;31m有关更多详细信息，请查看 Jupyter <a href='command:jupyter.viewOutput'>log</a>。"
     ]
    }
   ],
   "source": [
    "from matplotlib import pyplot as plt \n",
    "#import numpy as np\n",
    "\n",
    "\n",
    "dataName = open(dataPath,\"r\")\n",
    "result = dataName.readlines()\n",
    "\n",
    "arrX = []\n",
    "arrY = []\n",
    "for line in result:\n",
    "    lineX = float(line.strip(\"\\n\").split(\"\\t\")[0])\n",
    "    lineY = float(line.strip(\"\\n\").split(\"\\t\")[1])\n",
    "    arrX.append(lineX)\n",
    "    arrY.append(lineY)\n",
    "    \n",
    "plt.plot(arrX,arrY,c=\"b\")\n",
    "plt.axis('off') #不显示坐标轴及边框\n",
    "\n",
    "plt.rcParams['figure.figsize'] = (6.0, 4.0) #设置figure_size尺寸\n",
    "plt.rcParams['savefig.dpi'] = 100 #图片像素\n",
    "\n",
    "plt.show() #在 plt.savefig 之前\n",
    "plt.savefig('black.png',facecolor =\"k\") #设置背景为黑色\n"
   ]
  },
  {
   "cell_type": "code",
   "execution_count": 4,
   "metadata": {},
   "outputs": [
    {
     "name": "stdout",
     "output_type": "stream",
     "text": [
      "torch.Size([3, 12, 1, 72])\n"
     ]
    }
   ],
   "source": [
    "# haha\n",
    "import torch\n",
    "import torch.nn as nn\n",
    "layer_N = nn.LayerNorm(normalized_shape=[12, 1, 72], eps=1e-05, elementwise_affine=True)\n",
    "\n",
    "t = torch.randn(3, 12, 1, 72)\n",
    "t_t = layer_N(t)\n",
    "print(t_t.shape)\n",
    "\n",
    "\n",
    "\n",
    "\n"
   ]
  },
  {
   "cell_type": "code",
   "execution_count": 1,
   "metadata": {},
   "outputs": [
    {
     "name": "stdout",
     "output_type": "stream",
     "text": [
      "相同元素的数量: 2\n",
      "总元素的数量: 4\n",
      "相同率: 50.0 %\n"
     ]
    }
   ],
   "source": [
    "import torch\n",
    "\n",
    "# 定义两个tensor\n",
    "tensor1 = torch.tensor([[0, 1],\n",
    "                        [1, 0]])\n",
    "\n",
    "tensor2 = torch.tensor([[1, 0],\n",
    "                        [1, 0]])\n",
    "\n",
    "# 比较两个tensor是否相等，得到一个布尔型的tensor\n",
    "equal_tensor = tensor1 == tensor2\n",
    "\n",
    "# 计算相同元素的数量\n",
    "num_equal_elements = torch.sum(equal_tensor).item()\n",
    "\n",
    "# 计算总元素的数量\n",
    "total_elements = equal_tensor.numel()\n",
    "\n",
    "# 计算相同率\n",
    "similarity_percentage = (num_equal_elements / total_elements) * 100\n",
    "\n",
    "print(\"相同元素的数量:\", num_equal_elements)\n",
    "print(\"总元素的数量:\", total_elements)\n",
    "print(\"相同率:\", similarity_percentage, \"%\")"
   ]
  },
  {
   "cell_type": "code",
   "execution_count": 4,
   "metadata": {},
   "outputs": [
    {
     "name": "stdout",
     "output_type": "stream",
     "text": [
      "准确率： 0.5\n",
      "2\n",
      "4\n"
     ]
    }
   ],
   "source": [
    "import torch\n",
    "\n",
    "# 定义神经网络输出的结果和真实标签\n",
    "tensor1 = torch.tensor([[0, 1],\n",
    "                        [1, 0]])\n",
    "tensor2 = torch.tensor([[1, 0],\n",
    "                        [1, 0]])\n",
    "\n",
    "# 比较预测值和真实值，计算准确率\n",
    "total = tensor1.numel()  # 总数量\n",
    "correct = (tensor1 == tensor2).sum().item()  # 相同预测值和真实值的数量\n",
    "accuracy = correct / total  # 准确率\n",
    "\n",
    "print(\"准确率：\", accuracy)\n",
    "print(correct)\n",
    "print(total)\n"
   ]
  },
  {
   "cell_type": "code",
   "execution_count": 3,
   "metadata": {},
   "outputs": [
    {
     "name": "stdout",
     "output_type": "stream",
     "text": [
      "2.1.1+cu121\n",
      "True\n",
      "3\n",
      "NVIDIA RTX A6000\n",
      "NVIDIA GeForce RTX 3090\n"
     ]
    }
   ],
   "source": [
    "import torch\n",
    "print(torch.__version__)\n",
    "print(torch.cuda.is_available())\n",
    "print(torch.cuda.device_count())\n",
    "# 输出可见GPU的名称\n",
    "print(torch.cuda.get_device_name(0))\n",
    "# 输出cuda:2对应GPU的名称\n",
    "print(torch.cuda.get_device_name(2))"
   ]
  },
  {
   "cell_type": "code",
   "execution_count": 3,
   "metadata": {},
   "outputs": [
    {
     "name": "stdout",
     "output_type": "stream",
     "text": [
      "torch.Size([32, 4634, 5])\n",
      "32\n",
      "<class 'int'>\n"
     ]
    }
   ],
   "source": [
    "import torch \n",
    "\n",
    "# 创建一个张量\n",
    "shape = [32,4634,5]\n",
    "t = torch.ones(shape)\n",
    "print(t.shape)\n",
    "a = t.shape[0]\n",
    "print(a)\n",
    "print(type(a))\n"
   ]
  },
  {
   "cell_type": "code",
   "execution_count": 2,
   "metadata": {},
   "outputs": [
    {
     "name": "stdout",
     "output_type": "stream",
     "text": [
      "0\n",
      "1\n",
      "2\n",
      "3\n",
      "4\n",
      "5\n",
      "6\n",
      "7\n",
      "8\n",
      "9\n"
     ]
    }
   ],
   "source": [
    "for i in range(10):\n",
    "    print(i)"
   ]
  },
  {
   "cell_type": "code",
   "execution_count": 4,
   "metadata": {},
   "outputs": [],
   "source": [
    "for e in range(0):\n",
    "    print(e)"
   ]
  },
  {
   "cell_type": "code",
   "execution_count": 3,
   "metadata": {},
   "outputs": [
    {
     "name": "stdout",
     "output_type": "stream",
     "text": [
      "0\n"
     ]
    }
   ],
   "source": []
  },
  {
   "cell_type": "code",
   "execution_count": 10,
   "metadata": {},
   "outputs": [
    {
     "name": "stderr",
     "output_type": "stream",
     "text": [
      "100%|██████████| 10/10 [00:10<00:00,  1.00s/it]\n"
     ]
    }
   ],
   "source": [
    "import tqdm, time\n",
    "for e in tqdm.tqdm(range(10)):\n",
    "    # print(e)\n",
    "    time.sleep(1)"
   ]
  },
  {
   "cell_type": "code",
   "execution_count": 9,
   "metadata": {},
   "outputs": [
    {
     "name": "stdout",
     "output_type": "stream",
     "text": [
      "2024-05-15-23:43:06\n"
     ]
    }
   ],
   "source": [
    "# 获取当前时间yy:mm:dd:hh:mm:ss\n",
    "import time\n",
    "print(str(time.strftime(\"%Y-%m-%d-%H:%M:%S\", time.localtime())))"
   ]
  },
  {
   "cell_type": "code",
   "execution_count": 16,
   "metadata": {},
   "outputs": [
    {
     "name": "stdout",
     "output_type": "stream",
     "text": [
      "tensor([[[-0.6078, -1.9689,  2.9219, -0.7258, -0.6083],\n",
      "         [ 0.5614,  0.9803, -0.5313, -2.0395,  0.8974],\n",
      "         [-0.3832,  0.7642, -0.3712,  1.1476, -0.9181],\n",
      "         [-0.6455,  0.1229, -0.0568,  0.2947, -0.0849],\n",
      "         [-0.0528,  1.1971, -0.6759, -1.3760, -1.4606]],\n",
      "\n",
      "        [[-0.3206, -1.0888,  0.4327,  1.2018, -0.8583],\n",
      "         [-0.6180, -0.7792,  0.9368,  0.2814,  0.0360],\n",
      "         [ 0.4320,  1.4195, -0.1430,  0.2279, -1.0816],\n",
      "         [-0.4013,  0.0612,  0.1625, -0.6073, -0.1219],\n",
      "         [-1.0133, -0.8650,  1.1110,  0.8135, -1.4759]],\n",
      "\n",
      "        [[ 0.3332,  1.4323, -0.6665,  0.0580, -0.4765],\n",
      "         [-0.5036, -0.8490, -0.7179, -1.0895,  0.1538],\n",
      "         [-0.6970,  1.3743, -1.1301,  0.0735,  1.1462],\n",
      "         [-0.3967,  1.2532,  0.1282,  1.2311,  1.5014],\n",
      "         [ 0.6486, -0.0119, -0.1383, -0.5730,  0.2313]]])\n",
      "tensor([[[-4.7063e-01, -1.6461e+00,  2.5774e+00, -5.7255e-01, -4.7107e-01],\n",
      "         [ 9.3448e-01,  1.4363e+00, -3.7437e-01, -2.1811e+00,  1.3370e+00],\n",
      "         [-5.8673e-01,  7.4042e-01, -5.7288e-01,  1.1838e+00, -1.2054e+00],\n",
      "         [-1.2550e+00, -6.1857e-02, -3.4093e-01,  2.0492e-01, -3.8447e-01],\n",
      "         [ 2.1496e-01,  1.6298e+00, -4.9026e-01, -1.2828e+00, -1.3786e+00]],\n",
      "\n",
      "        [[-2.2264e-01, -8.8606e-01,  4.2791e-01,  1.0920e+00, -6.8695e-01],\n",
      "         [-4.7828e-01, -6.7140e-01,  1.3841e+00,  5.9908e-01,  3.0520e-01],\n",
      "         [ 3.5617e-01,  1.4983e+00, -3.0887e-01,  1.2006e-01, -1.3945e+00],\n",
      "         [-8.7587e-01, -1.5764e-01, -2.8733e-04, -1.1957e+00, -4.4202e-01],\n",
      "         [-8.7217e-01, -7.0431e-01,  1.5324e+00,  1.1956e+00, -1.3959e+00]],\n",
      "\n",
      "        [[ 3.4192e-01,  1.2910e+00, -5.2134e-01,  1.0431e-01, -3.5725e-01],\n",
      "         [-3.4122e-01, -7.5498e-01, -5.9800e-01, -1.0431e+00,  4.4631e-01],\n",
      "         [-9.4964e-01,  1.4461e+00, -1.4506e+00, -5.8506e-02,  1.1822e+00],\n",
      "         [-8.6862e-01,  1.6933e+00, -5.3570e-02,  1.6590e+00,  2.0787e+00],\n",
      "         [ 1.0090e+00,  2.6125e-01,  1.1827e-01, -3.7385e-01,  5.3659e-01]]],\n",
      "       grad_fn=<NativeBatchNormBackward0>)\n",
      "tensor([[-0.2256,  0.2191,  0.2573, -0.5398, -0.4349],\n",
      "        [-0.3842, -0.2505,  0.5000,  0.3835, -0.7003],\n",
      "        [-0.1231,  0.6398, -0.5049, -0.0600,  0.5113]])\n",
      "tensor(6.3578e-09, grad_fn=<MeanBackward0>)\n"
     ]
    }
   ],
   "source": [
    "import torch\n",
    "a = torch.randn([3,5,5])\n",
    "print(a)\n",
    "import torch.nn as nn\n",
    "batch_norm1 = nn.BatchNorm1d(5)\n",
    "print(batch_norm1(a))\n",
    "print(a.mean(dim=1))\n",
    "print(batch_norm1(a).mean())"
   ]
  },
  {
   "cell_type": "code",
   "execution_count": 3,
   "metadata": {},
   "outputs": [
    {
     "name": "stdout",
     "output_type": "stream",
     "text": [
      "2\n",
      "0    2824\n",
      "1    2064\n",
      "Name: count, dtype: int64\n",
      "2\n",
      "0    707\n",
      "1    516\n",
      "Name: count, dtype: int64\n"
     ]
    }
   ],
   "source": [
    "import pandas as pd\n",
    "\n",
    "csv1 = pd.read_csv(\"/Data4/gly_wkdir/coldgenepredict/raw_sec/S_italica/分好的数据集csv/new/train_data.csv\", header=None)\n",
    "csv2 = pd.read_csv(\"/Data4/gly_wkdir/coldgenepredict/raw_sec/S_italica/分好的数据集csv/new/val_data.csv\", header=None)\n",
    "# # 输出表头\n",
    "# print(csv1.columns)\n",
    "# print(csv2.columns)\n",
    "# 统计第三列的数据情况\n",
    "print(csv1[2].value_counts())\n",
    "print(csv2[2].value_counts())\n",
    "\n"
   ]
  },
  {
   "cell_type": "code",
   "execution_count": 1,
   "metadata": {},
   "outputs": [
    {
     "data": {
      "text/plain": [
       "0.9258820632003453"
      ]
     },
     "execution_count": 1,
     "metadata": {},
     "output_type": "execute_result"
    }
   ],
   "source": [
    "import random\n",
    "a = random.random()\n",
    "a"
   ]
  },
  {
   "cell_type": "code",
   "execution_count": 1,
   "metadata": {},
   "outputs": [],
   "source": [
    "import torch\n",
    "import torch.nn as nn\n",
    "import torch.optim as optim\n",
    "from torch_geometric.data import Data\n",
    "from torch_geometric.nn import GCNConv, global_mean_pool\n",
    "import numpy as np\n",
    "from sklearn.metrics import accuracy_score\n"
   ]
  },
  {
   "cell_type": "code",
   "execution_count": 2,
   "metadata": {},
   "outputs": [],
   "source": [
    "class SequenceModel(nn.Module):\n",
    "    def __init__(self, input_dim, hidden_dim, output_dim):\n",
    "        super(SequenceModel, self).__init__()\n",
    "        self.fc1 = nn.Linear(input_dim, hidden_dim)\n",
    "        self.relu = nn.ReLU()\n",
    "        self.fc2 = nn.Linear(hidden_dim, output_dim)\n",
    "    \n",
    "    def forward(self, x):\n",
    "        x = self.fc1(x)\n",
    "        x = self.relu(x)\n",
    "        x = self.fc2(x)\n",
    "        return x\n"
   ]
  },
  {
   "cell_type": "code",
   "execution_count": 3,
   "metadata": {},
   "outputs": [],
   "source": [
    "class GraphModel(nn.Module):\n",
    "    def __init__(self, input_dim, hidden_dim, output_dim):\n",
    "        super(GraphModel, self).__init__()\n",
    "        self.conv1 = GCNConv(input_dim, hidden_dim)\n",
    "        self.conv2 = GCNConv(hidden_dim, output_dim)\n",
    "    \n",
    "    def forward(self, x, edge_index, batch):\n",
    "        x = self.conv1(x, edge_index)\n",
    "        x = torch.relu(x)\n",
    "        x = self.conv2(x, edge_index)\n",
    "        x = global_mean_pool(x, batch)\n",
    "        return x\n"
   ]
  },
  {
   "cell_type": "code",
   "execution_count": 4,
   "metadata": {},
   "outputs": [],
   "source": [
    "class CombinedModel(nn.Module):\n",
    "    def __init__(self, seq_input_dim, seq_hidden_dim, seq_output_dim, graph_input_dim, graph_hidden_dim, graph_output_dim, final_output_dim):\n",
    "        super(CombinedModel, self).__init__()\n",
    "        self.sequence_model = SequenceModel(seq_input_dim, seq_hidden_dim, seq_output_dim)\n",
    "        self.graph_model = GraphModel(graph_input_dim, graph_hidden_dim, graph_output_dim)\n",
    "        self.fc1 = nn.Linear(seq_output_dim + graph_output_dim, final_output_dim)\n",
    "    \n",
    "    def forward(self, sequence_data, graph_data):\n",
    "        seq_out = self.sequence_model(sequence_data)\n",
    "        graph_out = self.graph_model(graph_data.x, graph_data.edge_index, graph_data.batch)\n",
    "        combined = torch.cat([seq_out, graph_out], dim=1)\n",
    "        out = self.fc1(combined)\n",
    "        return out\n"
   ]
  },
  {
   "cell_type": "code",
   "execution_count": 6,
   "metadata": {},
   "outputs": [],
   "source": [
    "train_data_dir = f'/Data4/gly_wkdir/coldgenepredict/raw_sec/S_italica/分好的数据集csv/new/二进制一位分批数据集/train/'\n",
    "val_data_dir = f'/Data4/gly_wkdir/coldgenepredict/raw_sec/S_italica/分好的数据集csv/new/二进制一位分批数据集/val/'\n",
    "train_graph_dir = f'/Data4/gly_wkdir/coldgenepredict/raw_sec/S_italica/分好的数据集csv/new/二进制一位分批数据集/Data/32/train/'\n",
    "val_graph_dir = f'/Data4/gly_wkdir/coldgenepredict/raw_sec/S_italica/分好的数据集csv/new/二进制一位分批数据集/Data/32/val/'\n",
    "def get_graph_data(index, train_val):\n",
    "    if train_val == 'train_batch':\n",
    "        with open(train_graph_dir+train_val+'_'+str(index)+'.pkl', 'rb') as f:\n",
    "            data = pickle.load(f)\n",
    "    elif train_val == 'val_batch':\n",
    "        with open(val_graph_dir+train_val+'_'+str(index)+'.pkl', 'rb') as f:\n",
    "            data = pickle.load(f)\n",
    "    else: # raise报错\n",
    "        raise Exception(f'get_graph_data函数参数错误{index}和{train_val}')\n",
    "    return data"
   ]
  },
  {
   "cell_type": "code",
   "execution_count": 7,
   "metadata": {},
   "outputs": [
    {
     "name": "stdout",
     "output_type": "stream",
     "text": [
      "2024-05-18-23:08:02\n"
     ]
    }
   ],
   "source": [
    "import time\n",
    "TheTime = str(time.strftime(\"%Y-%m-%d-%H:%M:%S\", time.localtime()))\n",
    "print(TheTime)\n",
    "# 设置随机种子\n",
    "# seed = 3407 # https://link.zhihu.com/?target=https%3A//arxiv.org/pdf/2109.08203.pdf\n",
    "# torch.manual_seed(seed)\n",
    "# =============================================\n",
    "# 此次训练的目的是什么？\n",
    "Thetarget = '新模新分'\n",
    "# =============================================\n",
    "# 参数定义\n",
    "torch.cuda.set_device(0)\n",
    "device = torch.device(\"cuda:0\")\n",
    "cpu = torch.device(\"cpu\")\n",
    "# 学习率和L2正则化参数\n",
    "lr=0.0001\n",
    "weight_decay=1e-4\n",
    "epochs = 200\n",
    "\n",
    "# 定义一个最好的精度，val最好精度的模型被保存，没0.8你就别存了\n",
    "best_acc = 0.8\n",
    "databasename = '二进制一位分批数据集'\n",
    "# 保存图片的名字\n",
    "root_dir = '/Data4/gly_wkdir/coldgenepredict/raw_sec/S_italica/CNN_GCN/'\n",
    "loss_png = root_dir + f'loss64-{lr}-{weight_decay}-{epochs}-{databasename}-正常数据集{TheTime}-{Thetarget}.png'\n",
    "acc_png = root_dir + f'acc64-{lr}-{weight_decay}-{epochs}-{databasename}-正常数据集{TheTime}-{Thetarget}.png'\n",
    "# 给一个二进制数据集路径"
   ]
  },
  {
   "cell_type": "code",
   "execution_count": null,
   "metadata": {},
   "outputs": [],
   "source": [
    "# 假设我们已经有了序列数据、图数据和标签\n",
    "# sequences: [64, 46398] 的序列数据\n",
    "# labels: [64, 1] 的标签数据\n",
    "# edge_index: [2, num_edges] 的图边数据\n",
    "\n",
    "for epoch in range(epochs):\n",
    "    model.train()\n",
    "    model = model.to(device)\n",
    "    epoch_loss = 0\n",
    "    right_num = 0\n",
    "    num1s = 0\n",
    "    num0s = 0\n",
    "    # 用于合并sequence和label的list\n",
    "    sequence_list = []\n",
    "    label_list = []\n",
    "\n",
    "    for i in range(129):\n",
    "        with open(train_data_dir+'train_batch_'+str(i)+'.pkl', 'rb') as f:\n",
    "            optimizer.zero_grad()\n",
    "            batch = pickle.load(f)\n",
    "            sequence = batch[0].to(torch.float32)\n",
    "            label = batch[1].to(torch.float32)\n",
    "\n",
    "            # print('sequence: ', sequence.shape) # torch.Size([64, 46398, 1])\n",
    "            # print('label: ', label.shape) # torch.Size([64])\n",
    "            sequence = sequence.squeeze(2) # torch.Size([64, 46398])\n",
    "            label = label.unsqueeze(1) # torch.Size([64, 1])\n",
    "            num1s += (label == 1).sum().item()\n",
    "            num0s += (label == 0).sum().item()\n",
    "            \n",
    "            # print('sequence: ', sequence.shape)\n",
    "            # print('label: ', label.shape)\n",
    "            size_0_sequence = sequence.size(0)\n",
    "            # size_0_label = label.size(0)\n",
    "\n",
    "            # 生成相同的随机排列索引\n",
    "            permuted_index = torch.randperm(size_0_sequence)\n",
    "            # print('train_permuted_index: ', permuted_index)\n",
    "            # 使用相同的索引对两个张量进行重新排列\n",
    "            permuted_sequence = sequence[permuted_index]\n",
    "            permuted_label = label[permuted_index]\n",
    "\n",
    "            # --------------------------------------------------------------------------------------\n",
    "            data = get_graph_data(i, 'train_batch').to(device) # type: ignore\n",
    "            # --------------------------------------------------------------------------------------\n",
    "            permuted_sequence = permuted_sequence.to(device)\n",
    "            permuted_label = permuted_label.to(device)\n",
    "            outputs = model(data, permuted_sequence)\n",
    "            # print('outputs: ', outputs.shape)\n",
    "            # print('realoutputs', outputs)\n",
    "            loss = criterion(outputs, permuted_label)\n",
    "            epoch_loss += loss.item()\n",
    "\n",
    "            # outputs = torch.where(outputs > 0, torch.tensor(torch.float32(1)).to(device), torch.tensor(torch.float32(0)).to(device))\n",
    "            outputs10 = torch.where(outputs >= 0.5, torch.tensor(1.0, dtype=torch.float32).to(device), torch.tensor(0.0, dtype=torch.float32).to(device))\n",
    "\n",
    "            right_num += (outputs10 == permuted_label).sum().item()\n",
    "\n",
    "            loss.backward()\n",
    "            optimizer.step()\n",
    "            scheduler.step() \n",
    "            \n",
    "    \n",
    "    print('标签里1的个数：', num1s)\n",
    "    print('标签里0的个数：', num0s)\n",
    "    _all = num1s + num0s\n",
    "    print('训练集总数：', _all)\n",
    "    print('正确的个数：', right_num)\n",
    "    accuracy = right_num / _all\n",
    "    print(f'Epoch [{epoch+1}/{epochs}], Loss: {epoch_loss:.4f}')\n",
    "    print(f'Train Accuracy: {bcolors.FAIL}{accuracy:.4f}{bcolors.ENDC}')\n",
    "    train_losses.append(epoch_loss)\n",
    "    train_accs.append(accuracy)\n",
    "    print('最后一个批次的输出，不满batchsize是正常的:\\n',outputs)\n",
    "\n",
    "    model.eval()\n",
    "    val_loss = 0\n",
    "    right_num = 0\n",
    "    num1s = 0\n",
    "    num0s = 0\n",
    "    for i in range(92):\n",
    "        with open(val_data_dir+'val_batch_'+str(i)+'.pkl', 'rb') as f:\n",
    "            batch = pickle.load(f)\n",
    "            valsequence = batch[0].to(torch.float32)\n",
    "            label = batch[1].to(torch.float32)\n",
    "\n",
    "            size_0_sequence = valsequence.size(0)\n",
    "            # size_0_label = label.size(0)\n",
    "\n",
    "            # 生成相同的随机排列索引\n",
    "            permuted_index = torch.randperm(size_0_sequence)\n",
    "            # print('eval_permuted_index: ', permuted_index)\n",
    "            # 使用相同的索引对两个张量进行重新排列\n",
    "            permuted_sequence = valsequence[permuted_index]\n",
    "            permuted_label = label[permuted_index]\n",
    "            permuted_sequence = permuted_sequence.squeeze(2) # torch.Size([64, 46398])\n",
    "            permuted_label = permuted_label.unsqueeze(1) # torch.Size([64, 1])\n",
    "            # --------------------------------------------------------------------------------------\n",
    "            data = get_graph_data(i, 'val_batch').to(device) # type: ignore\n",
    "            # --------------------------------------------------------------------------------------\n",
    "            permuted_sequence = permuted_sequence.to(device)\n",
    "            permuted_label = permuted_label.to(device)\n",
    "            outputs = model(data, permuted_sequence)\n",
    "            loss = criterion(outputs, permuted_label)\n",
    "            val_loss += loss.item()\n",
    "\n",
    "            # outputs = torch.where(outputs > 0, torch.tensor(torch.float32(1)).to(device), torch.tensor(torch.float32(0)).to(device))\n",
    "            outputs = torch.where(outputs >= 0.5, torch.tensor(1.0, dtype=torch.float32).to(device), torch.tensor(0.0, dtype=torch.float32).to(device))\n",
    "            # 计算标签为1的个数\n",
    "            num1s += (permuted_label == 1).sum().item()\n",
    "            num0s += (permuted_label == 0).sum().item()\n",
    "            right_num += (outputs == permuted_label).sum().item()\n",
    "\n",
    "    print('标签里1的个数：', num1s)\n",
    "    print('标签里0的个数：', num0s)\n",
    "    _all = num1s + num0s\n",
    "    print('训练集总数：', _all)\n",
    "    print('正确的个数：', right_num)\n",
    "    print(f'Validation Loss: {loss.item():.4f}')\n",
    "    accuracy = right_num / _all\n",
    "    print(f\"Validation Accuracy: {bcolors.OKGREEN}{accuracy:.4f}{bcolors.ENDC}\")\n",
    "    val_losses.append(val_loss)\n",
    "    val_accs.append(accuracy)\n"
   ]
  },
  {
   "cell_type": "code",
   "execution_count": 12,
   "metadata": {},
   "outputs": [
    {
     "name": "stdout",
     "output_type": "stream",
     "text": [
      "7262\n"
     ]
    }
   ],
   "source": [
    "a = {}\n",
    "a['a'] = 'a'\n",
    "\n",
    "if a.get('b'):\n",
    "    raise TypeError('duplicate gene ID')\n",
    "print(len('GGCATGGCATTCCTCGTGCCCTGTCTGTTGTGAACAGAAATAAATTTGTAATGTCATAGATCTTGAGCTCGACTTCAGTTGCCTGAGCCAATGGCCACATCCTAAAAGAAGGAAATCGAGCTAATAATGGGCAACTTGGCAAGCAGAAGCAGCAGAGCAACTTTTCCATCGCTGGGCTGCTTCTTCCTGCTTGCAACGTGGCCGCTGTTTCTGCGGCACACCCCGCCGGCCCTCCCTGACCCTCTGGCGATGTGGCCCCTCTCCCCGTGTGCGCGCTTGCAGTCTTGTGGTTCCCAAGCGCAGAGCAGTTCGTGGAGCCAGGTGGCCTGCAGCCCACACCACGCATCGCGTAGTTGGCTCGCGGGACCCAGGCGTCAGCATCGCGCCTCCCTCTCCCGAAGCTCGCGTCTCGGCGTCTGTCTCCTCGCACCTCGGCGCCCGGACCCGGAGCGAGCCTGAGGCGCGCGACAAAGCGATGGCCTCGCCGGCGGCGGTGACGCGGCACCCTTCCCCCACCGTCCTTGCCTCCGGCCCTCGCTACTGCCGCCGCGTGAGTGCTCCCCCTCTCCCGCTCCCCCGGTGTAGTCTGCGGATGTAACACTGTGATTCCACTGGTGGAATCCACGCCCAGCGGTGCGGTTAGTGAGCTCCTGAGAACCGTAGGGTTTCAACGCCGCACCTCGTTCCGAAGCTGCCATATTATTCTTAATTCTTCTAGGAGGGAATGAGCGGTGCGAGTTTTTAGGGGAACCCGTTTAGCCATGGATTATTCTGATTGACACGAAACAGTACAGTTGAGTACTTGAGTGAGTGTGTTAGATTTGGAAGCAGGAGGCTGATGTGCACAATTGTTTGGATGATCGTTTTGTACTGAAGGGCCGGATTGATGGTTTGGACTGTCATTATATATATGCCACACGCAGAAATCATGATTTCCTCGTATAATATATACTGATTTAGGTATTGTTAGATAATGGTATGGCCCATAGGCCATATTGATGGTTTGTTCGAGTGCTTCATTAAGCAGGAGAGAAATGGATATATTGCACACTACAAGTTGCTTGTCTGAGTCTTGTGCACATGTAACATTGAACGCCGCAAACTGCCTGGGCTGTTCCAGAATAAGTTTGGTCTGAAGTGGCCATATGGTTTACACCCATTCTGGCATCTGTTTAGTTTCCTTTGTTTACCTATATTCTGTTCTGTATAATGTTTGTTCATCCCGCTACAGAATTTTGTTCCCAAAACTAAGTTTGTTCACTCTGGCAACGATCATTTGCAGGGACATCCACCCTCAAAAGTTGGCTTCCGAAGCTTGGCGCCACGGCTAAAGGTCAATGCACTTTTTGGGTGGCCTAAGGGAGACACGTCAACACGTCAACTGATCCCTCCTGCTGCTGAATCATATACGCTCTCAGGGTCAGCCTTAGAGGTGTTTTGTGTTTCTTGAGTGAACTCCTTTTCCAGGACTTATGCACCTAATTCATGATTTCCTTAATCGCTCGTTCGTTTCAGGTGGGTGCAAAACCACGTGAGGTGTCTATTTCTGTTGCTTCTTCTATCATGGACATTCCTGCTGCGGATTGGGATGCCTGTGCGTGTGATCCAGATGATCCTGAAAACTTTAACCCTTTCCTTACTTATGCATTCCTCTCAAGCTTAGAAGAATCACATTCTGCAGTAAAGGTAAGCACATAAATCACCATGTATCCTCGTCAGATCATACAAAGACATTTCTGTTTTAATCACTGTTCACCTACTGCATACACAGACGTTTAGCCCGTTTGACCGTTTAATTGGTTGTTTACACCAAATAATGGCTAAATGATAGGTGACCGACTGTATAACATTTAGCGTTTAGGTGAACACTAGTTTTAACCGTTAAGTGCTCAAGCTCCATTATAAGCATGTGTAATGTCTTACACATTGATTTTGACGATAAATTTGCTGTGTTTAATTGACAACAGAACTACAAACAAGATTTGTCTGCAATACCACCAGGCATATTGAGACATCAAAAATGATGAATTACCTATGACCAGGGGGTGTTCTGTGTGCTTAGCCTGACCCATCATGATTGTGATTCTATTTCTTTTGCGATTCTTAATTGCACAATTGCTTTCTTTATGAAAATTACTCCCGTAGATTGAACAAAGATTAGCTCTAACTTTTATTCAGTACCAACATGCATGGATGTACACACTGTTATCTTATTGTCTTCCTTGAGACCTTGGTCTCAACTGATTTCAGGAAACTGGCTGGTTACCTTTCCATGTTGTTGCACGGGATGAGAATGGACATATTATAGGTGTTGTTCCGCTTTACCTTAAAAGGTTTAACATCATTAACAGAATATCATCTCCTGTCTTCCTACTTGCTATGTACTATGTGCTCCTTTCATCTTGTTCATTGGTTGAGTGACAACATTGTGAACTTGCAGTCATTCTAGAGGAGAGTTTGTGTTTGATCAATCATGGGCAGAAGCTTACTACAACTATGGCCTTGAATACTATCCAAAGCTCCAGTCCTGTGTGCCTTTTACTCCAGTAACTGGTCAAAGAATATTACTTCGAAATACATCATATCGTGATCAAGTTTTTGATGCACTTGTCAAAGGTTTGATGAGCCTGACTACCAAGGTATCTGGATTAGCGTTCTTGCAAATATTTGTTTAAGTGGTGACTACTAAGAATGCCTAAAAATTATTATATCAAAATCATCCTATATTTTTAGCATCTATGTGCTACTGTTCATTGTTTCCACTTTCCACCTTTTATCAGCTCTACTTCATATGGCATTGTGATATCCTCTAGGACTAACCATTGCTTAATTCTTGAGTCATTTGTCTTCTTTTATTCTTGTTTTCTTGACATTTACAGTGTATACCAAAGGGCACCAAGTCTGTTTCATTTAAATAGAAGAGTTTGGTTGTCTGCTTGCAGCTACAAAGTTGCTAAATCAGGGCTTGATCGTTAATGTGTGTCGGTAATGAGTCAATGCTTTTTTTCCTCGAAAAATGCAGGAGAGCTGCGCATCATTATATTAAGAAGTGAAAAAAAGGGAAAGAACCCATACAACACGCCCCAGGCCAGCCAAAAGGCAAGCCCACACACTCACACCAACTCACGCCAACTCACACAAAACTCCCCCAAACTCTCTGATCCTTAGGCGTCCGTTTCAAAGGGCGACCAACTAATGAGTCAATGCTGAAGTAATAAAAGTTTAAAATCCTGTCTCTCTTCACAACTCATGTTTCATTATCTTTATGGTGTTAACTTGTAACACCCCAAAGTCCAAACAGCTCAGATTCACTCTGAGCGCTCACACTCTCACCAACCCACTTAACCTAGGGTTAACCCGGGGTTTGGTGGGCCTAAAACCCCTACAAACTTGCATCAACACACACATGGGCCACCATGGGCCTAATTCAAACTGGGCCGATGTCACATTACTAATTATTGATGTAGGCTCATGTATATGTGAAGTAGTGACAACCTTTTTGGGTTGCTTTGTTTATTTATCAACTACCTCTGTGTAGCTCTTATAAGACTACCCTCAGATGTATTGAACCAAGTTAATATCTGTCGGTTTCTGCTGCATTTCAGATGAACGTGTCATCATTACATATTACTTTTCCGTCTGAAGGTGAATTCAGCAAATTGAAGAATAGTGGGTTGTTACAAAGAATTGGGTTGCAATATCACTGGAGAAATCGGAATTACAAGAGGTGCTAACGCATTATGATATTAATAGCATTTCCTTCTGGATGGTTCAATGCTTGAAGTTGGGACTTCTACGTTCTAACCATATTATACTGCAACTTGGGGTTTCAATACTTGGTTGGAACATCTAGTTTTAAGAAAATCTTGGTGGACTAGAAGTGCAAACAAGCTCACAGTTTGGATGCAGCTACTATTTCCCTCATATACTGTTAATTCAAGGCATTTTTCTGTTCTTTTCCCACAACATCTCATTTTTGTTAAAAAATATGACACTTGGTTGTTGTATACTCTCTATCATTTGCTGTAGTAATTTATTTGTTAATCGTTGTGAATCAGCTTGTTATAGCATTCTAGTTAGACTTTCTCTGTGGGACATGAGGTCTTATACCTATTTTGGCTAACTTCTTCCTTTATTAGTGCCAAAAAAGTAGTTATCTTGACCAGATAATTGTAGCTAAGAGGACACATTTCAGATAAAAGCATAGCATGTGGACCATCGTTTTAAAGCAGTGTTTTTTTATGGAATCACTGCCTTGTTGACTCTGTGCTAAACTTTGCGAGATTACATTTTAGTTGCCTAGTTTATTGTGATTTCTCAATGTTTGCTGATATTCATTGCTCACCATGTTTTTTCAGTTTTGATGAGTTTCTGATGGATTTGAAGCAACCTAAACGGAAGAATATCAGACAAGAACGTAAAAAGGTTTACCTTCTTTTGGCTTAATTGATTCAAATGTGCTTGTCAATTGAGGATAATCTTTTTTGGAAACTTCCCAGATTCCTGCTCAAAATTTGCAAATGAAGCGACTTCGTGGAGACGAAATAAAGGTAATTATAAGGGAGAGATAGTTCTTTAATCGTACTCTTCAGTCACTTCTTTTACATTATCATATTCTTCACAGTATCTCATTAGCTTTGTTGCTTTCTGGACAGCTTACTTATAATTGTTTCCATTCACATTGCAGAGCAGCCACTGGGATGCCTTCTATAAATTCTACCGTAACACAACTGATAATCAGTTTGGTTTCACATTCTTCTTAACTTGTATTTTTTTTATTCTATACCTAACATCATGTTCTTGAAATGGTTGTTCATCTTCTGTCAGCATTCATACATATCGCGATGCCGCACCATTCTTGTTGACTCACTCTTCAACTTGAATTCCGGTGTCCATTTCTTCTTATTTACAATGTCACATAGTTTCACCTAGGTTGATCTATTTTTTTATCTGCACCCTTTGTAAACATGTATGATTTTTTTTAAAGGATTAATATTTAAGTGTGCTACTGTGTATTGAGAACTGAAGTTAATCAAAGCAAGGAAGGAATAGAAGTTTAGCAAATTATCAGGCAAAAAGGTCATTTAATCGAGCTAAATGGCCACTTAAACAGATACATTTGGCCATTGTGTAGTGTTTAAACAGGCTAAATTGCCATTTAGGAAAAAAAGGATTGGAGTTTGAACTTTGAAGTAATTACTGATAAATGCATGTGACTGCTAGCACATTGCCTTCTACTTGAACTGAAAGAGGCAACAAAGTTTTAAGAACCATCACCGCGTGAGTGCGTGACCCCCTCACCTTTTTGCACTTTCTTTTTGTTACACGGCATATCTGTAGGTATTTGTGGTGACCATGCCTAGGCACGTTTTTCATTAACAGGGGCATATATGTAGGTATGAATTAAGATTGTATAGAATTCGCTAGTGCAGTAATGTAGGTTTCTGTATTTTCACTTGTAGCTAGGGAAGTAGGGATGCTTCCATAGGTCTTTTCTGTCCCATGTCCTCTGTTTTTGAAATCCGAATCTGTTAATTAAATGAGTTCTGTGGCGACCCAGTGATCCAGAGAAAGCAAAACTTGCATCCCTACTCATAGCTTACTTTTCACTGCAGTTGGGGCCGACCATACTTGACAAGGGATTTCTTTCACCTCTTGGGCGAAAAGATGGGGGAGAATGTGATGCTTATTGTTGCTGAAAAAGATGATAAACTAGTTGCTGGAGCTCTTAACCTTATTGGAGGTGATACACTGTTTGGCCGGTTATGGGGATGCCTGCCAGATGCTTACTTTCCCAATTTGCATTTTGAAGCTTGCTATTATCAGGTAATTTGCTCATGTTTAGAACCATATCTTTGGAACAATGCAATAATATGGTTTGTTTATAGAATTTGATATTGTCCAGGCGATTGAAGCAGCCATAGAGTTAAACCTGAGTAATGTGGAGGCAGGTGCTCAGGGAGAGCACAAGATCCAGCGTGGTTACCTCCCAGTGACAACTTACAGCTGCCACTACTTTTCAAATCCTGGTTTTGCGGCAGCTATTGGAAATTTTCTTACACATGAGACGGCTCAGGTATTTTCGTGTTGATATTTTGAACCAGTTTCTTGCCAAAACTATGTGATATCAACCTTGCTGTCTTTGTTCTACTCACTTCTGTGTGCTGAAAATAATCTTTTGTGGACACATATACAACTCTTTCATCTGAGTGCATAGTATCTGTAGTTAATCAGTGCCATCCACATCCAATGCCAAACTCACCTCCTAGATTGAGCACCACATCTGGAACCCTTACATCTGAAGCTTGTCATGTTTTGGTTTCAATATTTTCCACTAGATTAGCCTCACATTCTGATGGGCTGATTGGGTGCTCTAGTGGACGGCATCATCACCAATAGTTGATATACTCACACAAAAAAGAAATTATTACCTCAGCAATACCACTTTTTGGAGCTAATGCGATTCTATGTTAGCCAGTGCTGAGTGTGACTAAGATCAGGACATCTTAGTAAACATGCATTGACTTTAGCAGTACTTTGTTGATACCATATATTAACGCATAAGGCATGATATCTTATTTCACCTTTTTCTAGCTTATTGTTGAGAAATTCTATTTTTCCTCCCGGTGGTAACTGCTGACACTACCAGTGTGGCGTTTATTTTATGTCAGACACTTATTTTCTTAAAATCCTTAGGGAAATGCAGTTTATTATGATGGACAGTTTGCATACCTTTCTGCCTTTTCCTGAAACTCCCAACTAATATTCTTGGTGTTAATAATACCAGGTTAAGCGTGCTATTAAGGTCCTTCATGATTCGGGTCCATACAAGGAAGACATACTGAAAGAATTTGCAGCTCAACAAGGCATCGACCTGTAGAACACAGAAGGAGCTAACACTTTGCATACTGTTTTATAGGATTAGCATCTTTTATGTAGCAACAGGAATACGGGTAATCCCATCAACTATACCAAATTACGGATCCGACATTTGTACACTGCTAGGAATGTAAATATTCAACATGTAAATCTAAAACCATTGGCTCCAATGGTCAACATCTAAACCCAAACATTCTGCGATACTATGCATCTCTGCGTCAGAATTCAGAAATGCTTTCTGGGCGCTATTACCTCAGCCTTAAATAAACCTAGCCGTCAAGTTGGGAGCTATAGCTATACTTGTTTCTACTTTTCCCAACAGAAGGATCTGATGCTTCATGTATATTGCGCTCTTTTCTAATGGGATCTCTGATGCTTCATGT'))"
   ]
  },
  {
   "cell_type": "code",
   "execution_count": 23,
   "metadata": {},
   "outputs": [],
   "source": [
    "import torch\n",
    "\n",
    "def reshape_it(input_tensor: torch.Tensor, n=215) -> torch.Tensor:\n",
    "    # 获取第一个维度的大小\n",
    "    batch_size = input_tensor.shape[0]\n",
    "    \n",
    "    # 计算每个样本所需的元素数\n",
    "    required_elements_per_sample = n * n\n",
    "    \n",
    "    # 将输入张量展平，并计算每个样本的元素数\n",
    "    flat_tensor = input_tensor.view(batch_size, -1)\n",
    "    num_elements = flat_tensor.size(1)\n",
    "    \n",
    "    # 如果当前样本元素数不足，进行填充\n",
    "    if num_elements < required_elements_per_sample:\n",
    "        # 计算填充元素的数量\n",
    "        padding_elements = required_elements_per_sample - num_elements\n",
    "        # 对所有样本进行填充\n",
    "        padded_tensor = torch.cat((flat_tensor, torch.zeros(batch_size, padding_elements, device=input_tensor.device)), dim=1)\n",
    "    else:\n",
    "        # 如果元素数足够或过多，进行截断\n",
    "        padded_tensor = flat_tensor[:, :required_elements_per_sample]\n",
    "    \n",
    "    # 将调整后的张量重新调整为 (batch_size, n, n) 的形状\n",
    "    reshaped_tensor = padded_tensor.view(batch_size, n, n)\n",
    "    \n",
    "    # 扩展维度并重复3次，形成 (batch_size, 3, n, n)\n",
    "    reshaped_tensor = reshaped_tensor.unsqueeze(1).expand(-1, 3, -1, -1)\n",
    "    \n",
    "    return reshaped_tensor\n"
   ]
  },
  {
   "cell_type": "code",
   "execution_count": 27,
   "metadata": {},
   "outputs": [
    {
     "name": "stdout",
     "output_type": "stream",
     "text": [
      "torch.Size([32, 1, 46398])\n",
      "torch.Size([32, 3, 215, 215])\n"
     ]
    }
   ],
   "source": [
    "import torch\n",
    "\n",
    "a = torch.randn(32, 1, 46398)\n",
    "print(a.shape)\n",
    "a = reshape_it(a)\n",
    "print(a.shape)\n",
    "\n"
   ]
  },
  {
   "cell_type": "code",
   "execution_count": 42,
   "metadata": {},
   "outputs": [
    {
     "name": "stdout",
     "output_type": "stream",
     "text": [
      "torch.Size([3, 4])\n",
      "tensor([[ 2.0702,  0.0406,  1.1342,  0.0933],\n",
      "        [ 0.7887, -1.5404,  0.3875, -0.9056],\n",
      "        [ 0.0022, -1.8251,  1.3807,  1.8410]])\n",
      "tensor([[ True,  True,  True, False],\n",
      "        [False,  True,  True,  True],\n",
      "        [False, False,  True, False]])\n",
      "torch.Size([3, 4])\n",
      "tensor([[ 0.0000,  0.0000,  0.0000,  0.0933],\n",
      "        [ 0.7887, -0.0000,  0.0000, -0.0000],\n",
      "        [ 0.0022, -1.8251,  0.0000,  1.8410]])\n"
     ]
    }
   ],
   "source": [
    "def mutate_tensor(input_tensor: torch.Tensor, mutation_rate=0.5) -> torch.Tensor:\n",
    "    # 获取张量的形状\n",
    "    num_samples, num_features = input_tensor.shape\n",
    "    \n",
    "    # 计算需要置零的位置数量\n",
    "    num_mutations = int(num_features * mutation_rate)\n",
    "    \n",
    "    # 生成随机位置\n",
    "    mutation_indices = torch.rand(num_samples, num_features) < mutation_rate\n",
    "    print(mutation_indices)\n",
    "    # 创建一个掩码\n",
    "    mask = ~mutation_indices\n",
    "    \n",
    "    # 使用掩码将选定位置的值变为0\n",
    "    mutated_tensor = input_tensor * mask\n",
    "    \n",
    "    return mutated_tensor\n",
    "\n",
    "import torch\n",
    "\n",
    "a = torch.randn(3, 4)\n",
    "print(a.shape)\n",
    "print(a)\n",
    "a = mutate_tensor(a)\n",
    "print(a.shape)\n",
    "print(a)\n",
    "\n"
   ]
  },
  {
   "cell_type": "code",
   "execution_count": 21,
   "metadata": {},
   "outputs": [
    {
     "name": "stdout",
     "output_type": "stream",
     "text": [
      "tensor([[0.2350, 0.8241, 0.7370, 0.2785, 0.8987]])\n",
      "tensor([[False, False, False, False, False]])\n"
     ]
    }
   ],
   "source": [
    "import torch\n",
    "a = torch.rand(1, 5)\n",
    "print(a)\n",
    "a = a < 0.2\n",
    "print(a)"
   ]
  },
  {
   "cell_type": "code",
   "execution_count": 24,
   "metadata": {},
   "outputs": [
    {
     "data": {
      "image/png": "[encoded data removed]",
      "text/plain": [
       "<Figure size 1200x600 with 2 Axes>"
      ]
     },
     "metadata": {},
     "output_type": "display_data"
    }
   ],
   "source": [
    "import torch\n",
    "import torch.nn as nn\n",
    "import torch.optim as optim\n",
    "import matplotlib.pyplot as plt\n",
    "\n",
    "# 生成不均匀分布的数据\n",
    "data = torch.cat([torch.randn(1000, 1) * 0.5 + 2, torch.randn(1000, 1) * 5 - 2], dim=0)\n",
    "\n",
    "# 定义没有BN层的简单网络\n",
    "class SimpleNet(nn.Module):\n",
    "    def __init__(self):\n",
    "        super(SimpleNet, self).__init__()\n",
    "        self.fc1 = nn.Linear(1, 10)\n",
    "        self.fc2 = nn.Linear(10, 1)\n",
    "\n",
    "    def forward(self, x):\n",
    "        x = torch.relu(self.fc1(x))\n",
    "        x = self.fc2(x)\n",
    "        return x\n",
    "\n",
    "# 定义有BN层的简单网络\n",
    "class SimpleNetWithBN(nn.Module):\n",
    "    def __init__(self):\n",
    "        super(SimpleNetWithBN, self).__init__()\n",
    "        self.fc1 = nn.Linear(1, 10)\n",
    "        self.bn1 = nn.BatchNorm1d(10)\n",
    "        self.fc2 = nn.Linear(10, 1)\n",
    "\n",
    "    def forward(self, x):\n",
    "        x = torch.relu(self.bn1(self.fc1(x)))\n",
    "        x = self.fc2(x)\n",
    "        return x\n",
    "\n",
    "# 初始化网络\n",
    "net = SimpleNet()\n",
    "net_bn = SimpleNetWithBN()\n",
    "\n",
    "# 定义损失函数和优化器\n",
    "criterion = nn.MSELoss()\n",
    "optimizer = optim.SGD(net.parameters(), lr=0.01)\n",
    "optimizer_bn = optim.SGD(net_bn.parameters(), lr=0.01)\n",
    "\n",
    "# 定义目标\n",
    "target = torch.ones_like(data)\n",
    "\n",
    "# 训练网络\n",
    "def train(net, optimizer, data, target):\n",
    "    net.train()\n",
    "    optimizer.zero_grad()\n",
    "    output = net(data)\n",
    "    loss = criterion(output, target)\n",
    "    loss.backward()\n",
    "    optimizer.step()\n",
    "    return output\n",
    "\n",
    "# 训练若干轮次\n",
    "outputs_no_bn = []\n",
    "outputs_bn = []\n",
    "for epoch in range(20):\n",
    "    output_no_bn = train(net, optimizer, data, target)\n",
    "    output_bn = train(net_bn, optimizer_bn, data, target)\n",
    "    outputs_no_bn.append(output_no_bn.detach().numpy())\n",
    "    outputs_bn.append(output_bn.detach().numpy())\n",
    "\n",
    "# 可视化结果\n",
    "plt.figure(figsize=(12, 6))\n",
    "\n",
    "# 没有BN层的网络输出分布\n",
    "plt.subplot(1, 2, 1)\n",
    "plt.hist(outputs_no_bn[-1], bins=30, alpha=0.6, color='blue')\n",
    "plt.title('Without BatchNorm')\n",
    "plt.xlabel('Output value')\n",
    "plt.ylabel('Frequency')\n",
    "\n",
    "# 有BN层的网络输出分布\n",
    "plt.subplot(1, 2, 2)\n",
    "plt.hist(outputs_bn[-1], bins=30, alpha=0.6, color='green')\n",
    "plt.title('With BatchNorm')\n",
    "plt.xlabel('Output value')\n",
    "plt.ylabel('Frequency')\n",
    "\n",
    "plt.tight_layout()\n",
    "plt.show()\n"
   ]
  },
  {
   "cell_type": "code",
   "execution_count": 27,
   "metadata": {},
   "outputs": [
    {
     "name": "stdout",
     "output_type": "stream",
     "text": [
      "\u001b[96mThis is red text\u001b[0m\n",
      "\u001b[4;94mThis is bold blue text\u001b[0m\n",
      "\u001b[42m\u001b[90mThis is black text on green background\u001b[0m\n"
     ]
    }
   ],
   "source": [
    "class bcolors:\n",
    "    # Regular colors\n",
    "    PURPLE = '\\033[95m'\n",
    "    BLUE = '\\033[94m'\n",
    "    GREEN = '\\033[92m'\n",
    "    YELLOW = '\\033[93m'\n",
    "    RED = '\\033[91m'\n",
    "    WHITE = '\\033[97m'\n",
    "    BLACK = '\\033[90m'\n",
    "    CYAN = '\\033[96m'\n",
    "    \n",
    "    # Bright colors\n",
    "    BRIGHT_BLUE = '\\033[94;1m'\n",
    "    BRIGHT_GREEN = '\\033[92;1m'\n",
    "    BRIGHT_YELLOW = '\\033[93;1m'\n",
    "    BRIGHT_RED = '\\033[91;1m'\n",
    "    BRIGHT_WHITE = '\\033[97;1m'\n",
    "    BRIGHT_BLACK = '\\033[90;1m'\n",
    "    BRIGHT_CYAN = '\\033[96;1m'\n",
    "    \n",
    "    # Background colors\n",
    "    BG_BLUE = '\\033[44m'\n",
    "    BG_GREEN = '\\033[42m'\n",
    "    BG_YELLOW = '\\033[43m'\n",
    "    BG_RED = '\\033[41m'\n",
    "    BG_WHITE = '\\033[47m'\n",
    "    BG_BLACK = '\\033[40m'\n",
    "    BG_CYAN = '\\033[46m'\n",
    "    BG_PURPLE = '\\033[45m'\n",
    "    \n",
    "    # Additional text styles\n",
    "    BOLD = '\\033[1m'\n",
    "    UNDERLINE = '\\033[4m'\n",
    "    REVERSED = '\\033[7m'\n",
    "    RESET = '\\033[0m'\n",
    "    \n",
    "    # Combine styles\n",
    "    BOLD_BLUE = '\\033[4;94m'\n",
    "    UNDERLINE_GREEN = '\\033[4;92m'\n",
    "    BOLD_UNDERLINE_RED = '\\033[1;4;91m'\n",
    "\n",
    "# 示例使用\n",
    "print(f\"{bcolors.CYAN}This is red text{bcolors.RESET}\")\n",
    "print(f\"{bcolors.BOLD_BLUE}This is bold blue text{bcolors.RESET}\")\n",
    "print(f\"{bcolors.BG_GREEN}{bcolors.BLACK}This is black text on green background{bcolors.RESET}\")\n"
   ]
  },
  {
   "cell_type": "code",
   "execution_count": 30,
   "metadata": {},
   "outputs": [
    {
     "name": "stdout",
     "output_type": "stream",
     "text": [
      "a\u001b[4;34m下划线蓝色文本\u001b[0m\n"
     ]
    }
   ],
   "source": [
    "print('\\033[4;34m' + '下划线蓝色文本' + '\\033[0m')\n"
   ]
  },
  {
   "cell_type": "code",
   "execution_count": 7,
   "metadata": {},
   "outputs": [
    {
     "data": {
      "text/plain": [
       "0.30000000000000004"
      ]
     },
     "execution_count": 7,
     "metadata": {},
     "output_type": "execute_result"
    }
   ],
   "source": [
    "0.1+0.2\n"
   ]
  }
 ],
 "metadata": {
  "kernelspec": {
   "display_name": "R",
   "language": "python",
   "name": "python3"
  },
  "language_info": {
   "codemirror_mode": {
    "name": "ipython",
    "version": 3
   },
   "file_extension": ".py",
   "mimetype": "text/x-python",
   "name": "python",
   "nbconvert_exporter": "python",
   "pygments_lexer": "ipython3",
   "version": "3.9.19"
  }
 },
 "nbformat": 4,
 "nbformat_minor": 2
}
