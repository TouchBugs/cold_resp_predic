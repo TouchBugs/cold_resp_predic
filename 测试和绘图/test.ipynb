{
 "cells": [
  {
   "cell_type": "code",
   "execution_count": 2,
   "metadata": {},
   "outputs": [
    {
     "data": {
      "image/png": "[encoded data removed]",
      "text/plain": [
       "<Figure size 640x480 with 1 Axes>"
      ]
     },
     "metadata": {},
     "output_type": "display_data"
    }
   ],
   "source": [
    "import matplotlib.pyplot as plt\n",
    "from matplotlib.font_manager import FontProperties\n",
    "\n",
    "# 指定Noto Sans Mono CJK SC字体路径\n",
    "font_path = '/Data4/gly_wkdir/coldgenepredict/raw_sec/S_italica/测试和绘图/NotoSansMonoCJKsc-Regular.otf'  # 请替换为实际的字体文件路径\n",
    "font_prop = FontProperties(fname=font_path)\n",
    "\n",
    "# 使用指定字体绘制图表\n",
    "plt.figure()\n",
    "plt.text(0.5, 0.5, '中文和English显示正常', fontproperties=font_prop, fontsize=12)\n",
    "plt.show()"
   ]
  },
  {
   "cell_type": "code",
   "execution_count": 1,
   "metadata": {},
   "outputs": [
    {
     "name": "stdout",
     "output_type": "stream",
     "text": [
      "GPU 0: NVIDIA RTX A6000\n"
     ]
    }
   ],
   "source": [
    "import torch\n",
    "\n",
    "import torch\n",
    "\n",
    "# 获取可用GPU数量\n",
    "num_gpus = torch.cuda.device_count()\n",
    "\n",
    "# 打印每个GPU的名字\n",
    "for i in range(num_gpus):\n",
    "    print(f\"GPU {i}: {torch.cuda.get_device_name(i)}\")"
   ]
  },
  {
   "cell_type": "code",
   "execution_count": 1,
   "metadata": {},
   "outputs": [
    {
     "name": "stdout",
     "output_type": "stream",
     "text": [
      "['d', 'i', 'c', 't', '_', 'k', 'e', 'y', 's', '(', '[', \"'\", '高', '粱', \"'\", ',', ' ', \"'\", '拟', '南', '芥', \"'\", ',', ' ', \"'\", '大', '豆', \"'\", ',', ' ', \"'\", '水', '稻', \"'\", ',', ' ', \"'\", '小', '米', '-', 't', 'r', 'a', 'i', 'n', \"'\", ',', ' ', \"'\", '小', '米', '-', 'v', 'a', 'l', \"'\", ']', ')']\n"
     ]
    }
   ],
   "source": [
    "import pickle\n",
    "with open('/Data4/gly_wkdir/coldgenepredict/raw_sec/S_italica/测试和绘图/roc_data.pkl', 'rb') as f:\n",
    "    roc_data = pickle.load(f)\n",
    "with open('/Data4/gly_wkdir/coldgenepredict/raw_sec/S_italica/测试和绘图/f1_scores.pkl', 'rb') as f:\n",
    "    f1_scores = pickle.load(f)\n",
    "with open('/Data4/gly_wkdir/coldgenepredict/raw_sec/S_italica/测试和绘图/roc_data小米.pkl', 'rb') as f:\n",
    "    roc_data_add = pickle.load(f)\n",
    "with open('/Data4/gly_wkdir/coldgenepredict/raw_sec/S_italica/测试和绘图/f1_scores小米.pkl', 'rb') as f:\n",
    "    f1_scores_add = pickle.load(f)\n",
    "roc_data['小米-train'] = roc_data_add['小米-train']\n",
    "roc_data['小米-val'] = roc_data_add['小米-val']\n",
    "f1_scores['小米-train'] = f1_scores_add['小米-train']\n",
    "f1_scores['小米-val'] = f1_scores_add['小米-val']\n",
    "species = list(str(f1_scores.keys()))\n",
    "f1_values = list(f1_scores.values())\n",
    "print(species)"
   ]
  },
  {
   "cell_type": "code",
   "execution_count": 11,
   "metadata": {},
   "outputs": [
    {
     "data": {
      "text/plain": [
       "\"dict_keys(['高粱', '拟南芥', '大豆', '水稻', '小米-train', '小米-val'])\""
      ]
     },
     "execution_count": 11,
     "metadata": {},
     "output_type": "execute_result"
    }
   ],
   "source": [
    "\n",
    "(str(f1_scores.keys()))\n"
   ]
  },
  {
   "cell_type": "code",
   "execution_count": 17,
   "metadata": {},
   "outputs": [
    {
     "data": {
      "image/png": "[encoded data removed]",
      "text/plain": [
       "<Figure size 600x400 with 1 Axes>"
      ]
     },
     "metadata": {},
     "output_type": "display_data"
    }
   ],
   "source": [
    "import matplotlib.pyplot as plt\n",
    "import seaborn as sns\n",
    "import numpy as np\n",
    "\n",
    "# 示例数据\n",
    "categories = ['Model A', 'Model B', 'Model C', 'Model D', 'Model E', 'Model F']\n",
    "auc_roc = [0.85, 0.78, 0.80, 0.75, 0.82, 0.79]\n",
    "errors = [0.02, 0.03, 0.02, 0.04, 0.01, 0.03]\n",
    "\n",
    "# 设置Seaborn的样式\n",
    "sns.set_theme(style=\"whitegrid\")\n",
    "\n",
    "# 绘制柱状图\n",
    "plt.figure(figsize=(6, 4))\n",
    "bar_plot = plt.bar(categories, auc_roc, yerr=errors, capsize=5, color=sns.color_palette(\"muted\"))\n",
    "\n",
    "# 添加标题和标签\n",
    "plt.title('Foxtail millet')\n",
    "plt.ylabel('AUC-ROC')\n",
    "plt.ylim(0.5, 1.0)\n",
    "\n",
    "# 显示图表\n",
    "plt.show()\n"
   ]
  },
  {
   "cell_type": "code",
   "execution_count": 16,
   "metadata": {},
   "outputs": [
    {
     "data": {
      "text/plain": [
       "'temp-plot.html'"
      ]
     },
     "execution_count": 16,
     "metadata": {},
     "output_type": "execute_result"
    }
   ],
   "source": [
    "import plotly.graph_objs as go\n",
    "from plotly.offline import plot\n",
    "\n",
    "# 示例数据\n",
    "categories = ['Model A', 'Model B', 'Model C', 'Model D', 'Model E', 'Model F']\n",
    "auc_roc = [0.85, 0.78, 0.80, 0.75, 0.82, 0.79]\n",
    "errors = [0.02, 0.03, 0.02, 0.04, 0.01, 0.03]\n",
    "\n",
    "# 绘制柱状图\n",
    "fig = go.Figure(data=[\n",
    "    go.Bar(name='AUC-ROC', x=categories, y=auc_roc, error_y=dict(type='data', array=errors))\n",
    "])\n",
    "\n",
    "# 添加标题和标签\n",
    "fig.update_layout(\n",
    "    title='Foxtail millet',\n",
    "    yaxis=dict(title='AUC-ROC', range=[0.5, 1.0])\n",
    ")\n",
    "\n",
    "# 显示图表\n",
    "plot(fig)\n"
   ]
  }
 ],
 "metadata": {
  "kernelspec": {
   "display_name": "DeepLpy3.9",
   "language": "python",
   "name": "python3"
  },
  "language_info": {
   "codemirror_mode": {
    "name": "ipython",
    "version": 3
   },
   "file_extension": ".py",
   "mimetype": "text/x-python",
   "name": "python",
   "nbconvert_exporter": "python",
   "pygments_lexer": "ipython3",
   "version": "3.9.19"
  }
 },
 "nbformat": 4,
 "nbformat_minor": 2
}
